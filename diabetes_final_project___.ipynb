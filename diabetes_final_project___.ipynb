{
 "cells": [
  {
   "cell_type": "code",
   "execution_count": 4,
   "id": "77ccd962",
   "metadata": {
    "id": "77ccd962"
   },
   "outputs": [],
   "source": [
    "import matplotlib.pyplot as plt"
   ]
  },
  {
   "cell_type": "code",
   "execution_count": 5,
   "id": "9a780558",
   "metadata": {
    "id": "9a780558"
   },
   "outputs": [],
   "source": [
    "import pandas as pd"
   ]
  },
  {
   "cell_type": "code",
   "execution_count": 6,
   "id": "09a7f3ef",
   "metadata": {
    "id": "09a7f3ef"
   },
   "outputs": [],
   "source": [
    "import numpy as np"
   ]
  },
  {
   "cell_type": "code",
   "execution_count": 7,
   "id": "HNrEMxvBTZQO",
   "metadata": {
    "id": "HNrEMxvBTZQO"
   },
   "outputs": [],
   "source": [
    "import pickle "
   ]
  },
  {
   "cell_type": "code",
   "execution_count": 8,
   "id": "3894d903",
   "metadata": {
    "id": "3894d903"
   },
   "outputs": [],
   "source": [
    "dataset = pd.read_csv(\"diabetes_binary_health_indicators.csv\")"
   ]
  },
  {
   "cell_type": "code",
   "execution_count": 9,
   "id": "939d8350",
   "metadata": {
    "colab": {
     "base_uri": "https://localhost:8080/",
     "height": 488
    },
    "id": "939d8350",
    "outputId": "064cec80-07c1-42a1-bb66-5547a124889e"
   },
   "outputs": [
    {
     "data": {
      "text/html": [
       "<div>\n",
       "<style scoped>\n",
       "    .dataframe tbody tr th:only-of-type {\n",
       "        vertical-align: middle;\n",
       "    }\n",
       "\n",
       "    .dataframe tbody tr th {\n",
       "        vertical-align: top;\n",
       "    }\n",
       "\n",
       "    .dataframe thead th {\n",
       "        text-align: right;\n",
       "    }\n",
       "</style>\n",
       "<table border=\"1\" class=\"dataframe\">\n",
       "  <thead>\n",
       "    <tr style=\"text-align: right;\">\n",
       "      <th></th>\n",
       "      <th>Diabetes_binary</th>\n",
       "      <th>HighBP</th>\n",
       "      <th>HighChol</th>\n",
       "      <th>CholCheck</th>\n",
       "      <th>BMI</th>\n",
       "      <th>Smoker</th>\n",
       "      <th>Stroke</th>\n",
       "      <th>HeartDiseaseorAttack</th>\n",
       "      <th>PhysActivity</th>\n",
       "      <th>Fruits</th>\n",
       "      <th>...</th>\n",
       "      <th>AnyHealthcare</th>\n",
       "      <th>NoDocbcCost</th>\n",
       "      <th>GenHlth</th>\n",
       "      <th>MentHlth</th>\n",
       "      <th>PhysHlth</th>\n",
       "      <th>DiffWalk</th>\n",
       "      <th>Sex</th>\n",
       "      <th>Age</th>\n",
       "      <th>Education</th>\n",
       "      <th>Income</th>\n",
       "    </tr>\n",
       "  </thead>\n",
       "  <tbody>\n",
       "    <tr>\n",
       "      <th>0</th>\n",
       "      <td>False</td>\n",
       "      <td>False</td>\n",
       "      <td>False</td>\n",
       "      <td>False</td>\n",
       "      <td>False</td>\n",
       "      <td>False</td>\n",
       "      <td>False</td>\n",
       "      <td>False</td>\n",
       "      <td>False</td>\n",
       "      <td>False</td>\n",
       "      <td>...</td>\n",
       "      <td>False</td>\n",
       "      <td>False</td>\n",
       "      <td>False</td>\n",
       "      <td>False</td>\n",
       "      <td>False</td>\n",
       "      <td>False</td>\n",
       "      <td>False</td>\n",
       "      <td>False</td>\n",
       "      <td>False</td>\n",
       "      <td>False</td>\n",
       "    </tr>\n",
       "    <tr>\n",
       "      <th>1</th>\n",
       "      <td>False</td>\n",
       "      <td>False</td>\n",
       "      <td>False</td>\n",
       "      <td>False</td>\n",
       "      <td>False</td>\n",
       "      <td>False</td>\n",
       "      <td>False</td>\n",
       "      <td>False</td>\n",
       "      <td>False</td>\n",
       "      <td>False</td>\n",
       "      <td>...</td>\n",
       "      <td>False</td>\n",
       "      <td>False</td>\n",
       "      <td>False</td>\n",
       "      <td>False</td>\n",
       "      <td>False</td>\n",
       "      <td>False</td>\n",
       "      <td>False</td>\n",
       "      <td>False</td>\n",
       "      <td>False</td>\n",
       "      <td>False</td>\n",
       "    </tr>\n",
       "    <tr>\n",
       "      <th>2</th>\n",
       "      <td>False</td>\n",
       "      <td>False</td>\n",
       "      <td>False</td>\n",
       "      <td>False</td>\n",
       "      <td>False</td>\n",
       "      <td>False</td>\n",
       "      <td>False</td>\n",
       "      <td>False</td>\n",
       "      <td>False</td>\n",
       "      <td>False</td>\n",
       "      <td>...</td>\n",
       "      <td>False</td>\n",
       "      <td>False</td>\n",
       "      <td>False</td>\n",
       "      <td>False</td>\n",
       "      <td>False</td>\n",
       "      <td>False</td>\n",
       "      <td>False</td>\n",
       "      <td>False</td>\n",
       "      <td>False</td>\n",
       "      <td>False</td>\n",
       "    </tr>\n",
       "    <tr>\n",
       "      <th>3</th>\n",
       "      <td>False</td>\n",
       "      <td>False</td>\n",
       "      <td>False</td>\n",
       "      <td>False</td>\n",
       "      <td>False</td>\n",
       "      <td>False</td>\n",
       "      <td>False</td>\n",
       "      <td>False</td>\n",
       "      <td>False</td>\n",
       "      <td>False</td>\n",
       "      <td>...</td>\n",
       "      <td>False</td>\n",
       "      <td>False</td>\n",
       "      <td>False</td>\n",
       "      <td>False</td>\n",
       "      <td>False</td>\n",
       "      <td>False</td>\n",
       "      <td>False</td>\n",
       "      <td>False</td>\n",
       "      <td>False</td>\n",
       "      <td>False</td>\n",
       "    </tr>\n",
       "    <tr>\n",
       "      <th>4</th>\n",
       "      <td>False</td>\n",
       "      <td>False</td>\n",
       "      <td>False</td>\n",
       "      <td>False</td>\n",
       "      <td>False</td>\n",
       "      <td>False</td>\n",
       "      <td>False</td>\n",
       "      <td>False</td>\n",
       "      <td>False</td>\n",
       "      <td>False</td>\n",
       "      <td>...</td>\n",
       "      <td>False</td>\n",
       "      <td>False</td>\n",
       "      <td>False</td>\n",
       "      <td>False</td>\n",
       "      <td>False</td>\n",
       "      <td>False</td>\n",
       "      <td>False</td>\n",
       "      <td>False</td>\n",
       "      <td>False</td>\n",
       "      <td>False</td>\n",
       "    </tr>\n",
       "    <tr>\n",
       "      <th>...</th>\n",
       "      <td>...</td>\n",
       "      <td>...</td>\n",
       "      <td>...</td>\n",
       "      <td>...</td>\n",
       "      <td>...</td>\n",
       "      <td>...</td>\n",
       "      <td>...</td>\n",
       "      <td>...</td>\n",
       "      <td>...</td>\n",
       "      <td>...</td>\n",
       "      <td>...</td>\n",
       "      <td>...</td>\n",
       "      <td>...</td>\n",
       "      <td>...</td>\n",
       "      <td>...</td>\n",
       "      <td>...</td>\n",
       "      <td>...</td>\n",
       "      <td>...</td>\n",
       "      <td>...</td>\n",
       "      <td>...</td>\n",
       "      <td>...</td>\n",
       "    </tr>\n",
       "    <tr>\n",
       "      <th>253675</th>\n",
       "      <td>False</td>\n",
       "      <td>False</td>\n",
       "      <td>False</td>\n",
       "      <td>False</td>\n",
       "      <td>False</td>\n",
       "      <td>False</td>\n",
       "      <td>False</td>\n",
       "      <td>False</td>\n",
       "      <td>False</td>\n",
       "      <td>False</td>\n",
       "      <td>...</td>\n",
       "      <td>False</td>\n",
       "      <td>False</td>\n",
       "      <td>False</td>\n",
       "      <td>False</td>\n",
       "      <td>False</td>\n",
       "      <td>False</td>\n",
       "      <td>False</td>\n",
       "      <td>False</td>\n",
       "      <td>False</td>\n",
       "      <td>False</td>\n",
       "    </tr>\n",
       "    <tr>\n",
       "      <th>253676</th>\n",
       "      <td>False</td>\n",
       "      <td>False</td>\n",
       "      <td>False</td>\n",
       "      <td>False</td>\n",
       "      <td>False</td>\n",
       "      <td>False</td>\n",
       "      <td>False</td>\n",
       "      <td>False</td>\n",
       "      <td>False</td>\n",
       "      <td>False</td>\n",
       "      <td>...</td>\n",
       "      <td>False</td>\n",
       "      <td>False</td>\n",
       "      <td>False</td>\n",
       "      <td>False</td>\n",
       "      <td>False</td>\n",
       "      <td>False</td>\n",
       "      <td>False</td>\n",
       "      <td>False</td>\n",
       "      <td>False</td>\n",
       "      <td>False</td>\n",
       "    </tr>\n",
       "    <tr>\n",
       "      <th>253677</th>\n",
       "      <td>False</td>\n",
       "      <td>False</td>\n",
       "      <td>False</td>\n",
       "      <td>False</td>\n",
       "      <td>False</td>\n",
       "      <td>False</td>\n",
       "      <td>False</td>\n",
       "      <td>False</td>\n",
       "      <td>False</td>\n",
       "      <td>False</td>\n",
       "      <td>...</td>\n",
       "      <td>False</td>\n",
       "      <td>False</td>\n",
       "      <td>False</td>\n",
       "      <td>False</td>\n",
       "      <td>False</td>\n",
       "      <td>False</td>\n",
       "      <td>False</td>\n",
       "      <td>False</td>\n",
       "      <td>False</td>\n",
       "      <td>False</td>\n",
       "    </tr>\n",
       "    <tr>\n",
       "      <th>253678</th>\n",
       "      <td>False</td>\n",
       "      <td>False</td>\n",
       "      <td>False</td>\n",
       "      <td>False</td>\n",
       "      <td>False</td>\n",
       "      <td>False</td>\n",
       "      <td>False</td>\n",
       "      <td>False</td>\n",
       "      <td>False</td>\n",
       "      <td>False</td>\n",
       "      <td>...</td>\n",
       "      <td>False</td>\n",
       "      <td>False</td>\n",
       "      <td>False</td>\n",
       "      <td>False</td>\n",
       "      <td>False</td>\n",
       "      <td>False</td>\n",
       "      <td>False</td>\n",
       "      <td>False</td>\n",
       "      <td>False</td>\n",
       "      <td>False</td>\n",
       "    </tr>\n",
       "    <tr>\n",
       "      <th>253679</th>\n",
       "      <td>False</td>\n",
       "      <td>False</td>\n",
       "      <td>False</td>\n",
       "      <td>False</td>\n",
       "      <td>False</td>\n",
       "      <td>False</td>\n",
       "      <td>False</td>\n",
       "      <td>False</td>\n",
       "      <td>False</td>\n",
       "      <td>False</td>\n",
       "      <td>...</td>\n",
       "      <td>False</td>\n",
       "      <td>False</td>\n",
       "      <td>False</td>\n",
       "      <td>False</td>\n",
       "      <td>False</td>\n",
       "      <td>False</td>\n",
       "      <td>False</td>\n",
       "      <td>False</td>\n",
       "      <td>False</td>\n",
       "      <td>False</td>\n",
       "    </tr>\n",
       "  </tbody>\n",
       "</table>\n",
       "<p>253680 rows × 22 columns</p>\n",
       "</div>"
      ],
      "text/plain": [
       "        Diabetes_binary  HighBP  HighChol  CholCheck    BMI  Smoker  Stroke  \\\n",
       "0                 False   False     False      False  False   False   False   \n",
       "1                 False   False     False      False  False   False   False   \n",
       "2                 False   False     False      False  False   False   False   \n",
       "3                 False   False     False      False  False   False   False   \n",
       "4                 False   False     False      False  False   False   False   \n",
       "...                 ...     ...       ...        ...    ...     ...     ...   \n",
       "253675            False   False     False      False  False   False   False   \n",
       "253676            False   False     False      False  False   False   False   \n",
       "253677            False   False     False      False  False   False   False   \n",
       "253678            False   False     False      False  False   False   False   \n",
       "253679            False   False     False      False  False   False   False   \n",
       "\n",
       "        HeartDiseaseorAttack  PhysActivity  Fruits  ...  AnyHealthcare  \\\n",
       "0                      False         False   False  ...          False   \n",
       "1                      False         False   False  ...          False   \n",
       "2                      False         False   False  ...          False   \n",
       "3                      False         False   False  ...          False   \n",
       "4                      False         False   False  ...          False   \n",
       "...                      ...           ...     ...  ...            ...   \n",
       "253675                 False         False   False  ...          False   \n",
       "253676                 False         False   False  ...          False   \n",
       "253677                 False         False   False  ...          False   \n",
       "253678                 False         False   False  ...          False   \n",
       "253679                 False         False   False  ...          False   \n",
       "\n",
       "        NoDocbcCost  GenHlth  MentHlth  PhysHlth  DiffWalk    Sex    Age  \\\n",
       "0             False    False     False     False     False  False  False   \n",
       "1             False    False     False     False     False  False  False   \n",
       "2             False    False     False     False     False  False  False   \n",
       "3             False    False     False     False     False  False  False   \n",
       "4             False    False     False     False     False  False  False   \n",
       "...             ...      ...       ...       ...       ...    ...    ...   \n",
       "253675        False    False     False     False     False  False  False   \n",
       "253676        False    False     False     False     False  False  False   \n",
       "253677        False    False     False     False     False  False  False   \n",
       "253678        False    False     False     False     False  False  False   \n",
       "253679        False    False     False     False     False  False  False   \n",
       "\n",
       "        Education  Income  \n",
       "0           False   False  \n",
       "1           False   False  \n",
       "2           False   False  \n",
       "3           False   False  \n",
       "4           False   False  \n",
       "...           ...     ...  \n",
       "253675      False   False  \n",
       "253676      False   False  \n",
       "253677      False   False  \n",
       "253678      False   False  \n",
       "253679      False   False  \n",
       "\n",
       "[253680 rows x 22 columns]"
      ]
     },
     "execution_count": 9,
     "metadata": {},
     "output_type": "execute_result"
    }
   ],
   "source": [
    "dataset.isnull()"
   ]
  },
  {
   "cell_type": "code",
   "execution_count": 10,
   "id": "c406d1af",
   "metadata": {
    "colab": {
     "base_uri": "https://localhost:8080/"
    },
    "id": "c406d1af",
    "outputId": "d69c646e-1fab-434d-c7d7-278d0dab908d"
   },
   "outputs": [
    {
     "data": {
      "text/plain": [
       "Diabetes_binary         0\n",
       "HighBP                  0\n",
       "HighChol                0\n",
       "CholCheck               0\n",
       "BMI                     0\n",
       "Smoker                  0\n",
       "Stroke                  0\n",
       "HeartDiseaseorAttack    0\n",
       "PhysActivity            0\n",
       "Fruits                  0\n",
       "Veggies                 0\n",
       "HvyAlcoholConsump       0\n",
       "AnyHealthcare           0\n",
       "NoDocbcCost             0\n",
       "GenHlth                 0\n",
       "MentHlth                0\n",
       "PhysHlth                0\n",
       "DiffWalk                0\n",
       "Sex                     0\n",
       "Age                     0\n",
       "Education               0\n",
       "Income                  0\n",
       "dtype: int64"
      ]
     },
     "execution_count": 10,
     "metadata": {},
     "output_type": "execute_result"
    }
   ],
   "source": [
    "dataset.isnull().sum()"
   ]
  },
  {
   "cell_type": "code",
   "execution_count": 11,
   "id": "981ad700",
   "metadata": {
    "colab": {
     "base_uri": "https://localhost:8080/"
    },
    "id": "981ad700",
    "outputId": "dd6ee668-c0c4-40b3-fcac-630501b5131b"
   },
   "outputs": [
    {
     "data": {
      "text/plain": [
       "0"
      ]
     },
     "execution_count": 11,
     "metadata": {},
     "output_type": "execute_result"
    }
   ],
   "source": [
    "dataset.isnull().sum().sum()"
   ]
  },
  {
   "cell_type": "code",
   "execution_count": 12,
   "id": "c015523d",
   "metadata": {
    "colab": {
     "base_uri": "https://localhost:8080/",
     "height": 488
    },
    "id": "c015523d",
    "outputId": "de06d6a7-476e-42fc-81ac-723a2af5e27d"
   },
   "outputs": [
    {
     "data": {
      "text/html": [
       "<div>\n",
       "<style scoped>\n",
       "    .dataframe tbody tr th:only-of-type {\n",
       "        vertical-align: middle;\n",
       "    }\n",
       "\n",
       "    .dataframe tbody tr th {\n",
       "        vertical-align: top;\n",
       "    }\n",
       "\n",
       "    .dataframe thead th {\n",
       "        text-align: right;\n",
       "    }\n",
       "</style>\n",
       "<table border=\"1\" class=\"dataframe\">\n",
       "  <thead>\n",
       "    <tr style=\"text-align: right;\">\n",
       "      <th></th>\n",
       "      <th>Diabetes_binary</th>\n",
       "      <th>HighBP</th>\n",
       "      <th>HighChol</th>\n",
       "      <th>CholCheck</th>\n",
       "      <th>BMI</th>\n",
       "      <th>Smoker</th>\n",
       "      <th>Stroke</th>\n",
       "      <th>HeartDiseaseorAttack</th>\n",
       "      <th>PhysActivity</th>\n",
       "      <th>Fruits</th>\n",
       "      <th>...</th>\n",
       "      <th>AnyHealthcare</th>\n",
       "      <th>NoDocbcCost</th>\n",
       "      <th>GenHlth</th>\n",
       "      <th>MentHlth</th>\n",
       "      <th>PhysHlth</th>\n",
       "      <th>DiffWalk</th>\n",
       "      <th>Sex</th>\n",
       "      <th>Age</th>\n",
       "      <th>Education</th>\n",
       "      <th>Income</th>\n",
       "    </tr>\n",
       "  </thead>\n",
       "  <tbody>\n",
       "    <tr>\n",
       "      <th>0</th>\n",
       "      <td>0.0</td>\n",
       "      <td>1.0</td>\n",
       "      <td>1.0</td>\n",
       "      <td>1.0</td>\n",
       "      <td>40.0</td>\n",
       "      <td>1.0</td>\n",
       "      <td>0.0</td>\n",
       "      <td>0.0</td>\n",
       "      <td>0.0</td>\n",
       "      <td>0.0</td>\n",
       "      <td>...</td>\n",
       "      <td>1.0</td>\n",
       "      <td>0.0</td>\n",
       "      <td>5.0</td>\n",
       "      <td>18.0</td>\n",
       "      <td>15.0</td>\n",
       "      <td>1.0</td>\n",
       "      <td>0.0</td>\n",
       "      <td>9.0</td>\n",
       "      <td>4.0</td>\n",
       "      <td>3.0</td>\n",
       "    </tr>\n",
       "    <tr>\n",
       "      <th>1</th>\n",
       "      <td>0.0</td>\n",
       "      <td>0.0</td>\n",
       "      <td>0.0</td>\n",
       "      <td>0.0</td>\n",
       "      <td>25.0</td>\n",
       "      <td>1.0</td>\n",
       "      <td>0.0</td>\n",
       "      <td>0.0</td>\n",
       "      <td>1.0</td>\n",
       "      <td>0.0</td>\n",
       "      <td>...</td>\n",
       "      <td>0.0</td>\n",
       "      <td>1.0</td>\n",
       "      <td>3.0</td>\n",
       "      <td>0.0</td>\n",
       "      <td>0.0</td>\n",
       "      <td>0.0</td>\n",
       "      <td>0.0</td>\n",
       "      <td>7.0</td>\n",
       "      <td>6.0</td>\n",
       "      <td>1.0</td>\n",
       "    </tr>\n",
       "    <tr>\n",
       "      <th>2</th>\n",
       "      <td>0.0</td>\n",
       "      <td>1.0</td>\n",
       "      <td>1.0</td>\n",
       "      <td>1.0</td>\n",
       "      <td>28.0</td>\n",
       "      <td>0.0</td>\n",
       "      <td>0.0</td>\n",
       "      <td>0.0</td>\n",
       "      <td>0.0</td>\n",
       "      <td>1.0</td>\n",
       "      <td>...</td>\n",
       "      <td>1.0</td>\n",
       "      <td>1.0</td>\n",
       "      <td>5.0</td>\n",
       "      <td>30.0</td>\n",
       "      <td>30.0</td>\n",
       "      <td>1.0</td>\n",
       "      <td>0.0</td>\n",
       "      <td>9.0</td>\n",
       "      <td>4.0</td>\n",
       "      <td>8.0</td>\n",
       "    </tr>\n",
       "    <tr>\n",
       "      <th>3</th>\n",
       "      <td>0.0</td>\n",
       "      <td>1.0</td>\n",
       "      <td>0.0</td>\n",
       "      <td>1.0</td>\n",
       "      <td>27.0</td>\n",
       "      <td>0.0</td>\n",
       "      <td>0.0</td>\n",
       "      <td>0.0</td>\n",
       "      <td>1.0</td>\n",
       "      <td>1.0</td>\n",
       "      <td>...</td>\n",
       "      <td>1.0</td>\n",
       "      <td>0.0</td>\n",
       "      <td>2.0</td>\n",
       "      <td>0.0</td>\n",
       "      <td>0.0</td>\n",
       "      <td>0.0</td>\n",
       "      <td>0.0</td>\n",
       "      <td>11.0</td>\n",
       "      <td>3.0</td>\n",
       "      <td>6.0</td>\n",
       "    </tr>\n",
       "    <tr>\n",
       "      <th>4</th>\n",
       "      <td>0.0</td>\n",
       "      <td>1.0</td>\n",
       "      <td>1.0</td>\n",
       "      <td>1.0</td>\n",
       "      <td>24.0</td>\n",
       "      <td>0.0</td>\n",
       "      <td>0.0</td>\n",
       "      <td>0.0</td>\n",
       "      <td>1.0</td>\n",
       "      <td>1.0</td>\n",
       "      <td>...</td>\n",
       "      <td>1.0</td>\n",
       "      <td>0.0</td>\n",
       "      <td>2.0</td>\n",
       "      <td>3.0</td>\n",
       "      <td>0.0</td>\n",
       "      <td>0.0</td>\n",
       "      <td>0.0</td>\n",
       "      <td>11.0</td>\n",
       "      <td>5.0</td>\n",
       "      <td>4.0</td>\n",
       "    </tr>\n",
       "    <tr>\n",
       "      <th>...</th>\n",
       "      <td>...</td>\n",
       "      <td>...</td>\n",
       "      <td>...</td>\n",
       "      <td>...</td>\n",
       "      <td>...</td>\n",
       "      <td>...</td>\n",
       "      <td>...</td>\n",
       "      <td>...</td>\n",
       "      <td>...</td>\n",
       "      <td>...</td>\n",
       "      <td>...</td>\n",
       "      <td>...</td>\n",
       "      <td>...</td>\n",
       "      <td>...</td>\n",
       "      <td>...</td>\n",
       "      <td>...</td>\n",
       "      <td>...</td>\n",
       "      <td>...</td>\n",
       "      <td>...</td>\n",
       "      <td>...</td>\n",
       "      <td>...</td>\n",
       "    </tr>\n",
       "    <tr>\n",
       "      <th>253675</th>\n",
       "      <td>0.0</td>\n",
       "      <td>1.0</td>\n",
       "      <td>1.0</td>\n",
       "      <td>1.0</td>\n",
       "      <td>45.0</td>\n",
       "      <td>0.0</td>\n",
       "      <td>0.0</td>\n",
       "      <td>0.0</td>\n",
       "      <td>0.0</td>\n",
       "      <td>1.0</td>\n",
       "      <td>...</td>\n",
       "      <td>1.0</td>\n",
       "      <td>0.0</td>\n",
       "      <td>3.0</td>\n",
       "      <td>0.0</td>\n",
       "      <td>5.0</td>\n",
       "      <td>0.0</td>\n",
       "      <td>1.0</td>\n",
       "      <td>5.0</td>\n",
       "      <td>6.0</td>\n",
       "      <td>7.0</td>\n",
       "    </tr>\n",
       "    <tr>\n",
       "      <th>253676</th>\n",
       "      <td>1.0</td>\n",
       "      <td>1.0</td>\n",
       "      <td>1.0</td>\n",
       "      <td>1.0</td>\n",
       "      <td>18.0</td>\n",
       "      <td>0.0</td>\n",
       "      <td>0.0</td>\n",
       "      <td>0.0</td>\n",
       "      <td>0.0</td>\n",
       "      <td>0.0</td>\n",
       "      <td>...</td>\n",
       "      <td>1.0</td>\n",
       "      <td>0.0</td>\n",
       "      <td>4.0</td>\n",
       "      <td>0.0</td>\n",
       "      <td>0.0</td>\n",
       "      <td>1.0</td>\n",
       "      <td>0.0</td>\n",
       "      <td>11.0</td>\n",
       "      <td>2.0</td>\n",
       "      <td>4.0</td>\n",
       "    </tr>\n",
       "    <tr>\n",
       "      <th>253677</th>\n",
       "      <td>0.0</td>\n",
       "      <td>0.0</td>\n",
       "      <td>0.0</td>\n",
       "      <td>1.0</td>\n",
       "      <td>28.0</td>\n",
       "      <td>0.0</td>\n",
       "      <td>0.0</td>\n",
       "      <td>0.0</td>\n",
       "      <td>1.0</td>\n",
       "      <td>1.0</td>\n",
       "      <td>...</td>\n",
       "      <td>1.0</td>\n",
       "      <td>0.0</td>\n",
       "      <td>1.0</td>\n",
       "      <td>0.0</td>\n",
       "      <td>0.0</td>\n",
       "      <td>0.0</td>\n",
       "      <td>0.0</td>\n",
       "      <td>2.0</td>\n",
       "      <td>5.0</td>\n",
       "      <td>2.0</td>\n",
       "    </tr>\n",
       "    <tr>\n",
       "      <th>253678</th>\n",
       "      <td>0.0</td>\n",
       "      <td>1.0</td>\n",
       "      <td>0.0</td>\n",
       "      <td>1.0</td>\n",
       "      <td>23.0</td>\n",
       "      <td>0.0</td>\n",
       "      <td>0.0</td>\n",
       "      <td>0.0</td>\n",
       "      <td>0.0</td>\n",
       "      <td>1.0</td>\n",
       "      <td>...</td>\n",
       "      <td>1.0</td>\n",
       "      <td>0.0</td>\n",
       "      <td>3.0</td>\n",
       "      <td>0.0</td>\n",
       "      <td>0.0</td>\n",
       "      <td>0.0</td>\n",
       "      <td>1.0</td>\n",
       "      <td>7.0</td>\n",
       "      <td>5.0</td>\n",
       "      <td>1.0</td>\n",
       "    </tr>\n",
       "    <tr>\n",
       "      <th>253679</th>\n",
       "      <td>1.0</td>\n",
       "      <td>1.0</td>\n",
       "      <td>1.0</td>\n",
       "      <td>1.0</td>\n",
       "      <td>25.0</td>\n",
       "      <td>0.0</td>\n",
       "      <td>0.0</td>\n",
       "      <td>1.0</td>\n",
       "      <td>1.0</td>\n",
       "      <td>1.0</td>\n",
       "      <td>...</td>\n",
       "      <td>1.0</td>\n",
       "      <td>0.0</td>\n",
       "      <td>2.0</td>\n",
       "      <td>0.0</td>\n",
       "      <td>0.0</td>\n",
       "      <td>0.0</td>\n",
       "      <td>0.0</td>\n",
       "      <td>9.0</td>\n",
       "      <td>6.0</td>\n",
       "      <td>2.0</td>\n",
       "    </tr>\n",
       "  </tbody>\n",
       "</table>\n",
       "<p>253680 rows × 22 columns</p>\n",
       "</div>"
      ],
      "text/plain": [
       "        Diabetes_binary  HighBP  HighChol  CholCheck   BMI  Smoker  Stroke  \\\n",
       "0                   0.0     1.0       1.0        1.0  40.0     1.0     0.0   \n",
       "1                   0.0     0.0       0.0        0.0  25.0     1.0     0.0   \n",
       "2                   0.0     1.0       1.0        1.0  28.0     0.0     0.0   \n",
       "3                   0.0     1.0       0.0        1.0  27.0     0.0     0.0   \n",
       "4                   0.0     1.0       1.0        1.0  24.0     0.0     0.0   \n",
       "...                 ...     ...       ...        ...   ...     ...     ...   \n",
       "253675              0.0     1.0       1.0        1.0  45.0     0.0     0.0   \n",
       "253676              1.0     1.0       1.0        1.0  18.0     0.0     0.0   \n",
       "253677              0.0     0.0       0.0        1.0  28.0     0.0     0.0   \n",
       "253678              0.0     1.0       0.0        1.0  23.0     0.0     0.0   \n",
       "253679              1.0     1.0       1.0        1.0  25.0     0.0     0.0   \n",
       "\n",
       "        HeartDiseaseorAttack  PhysActivity  Fruits  ...  AnyHealthcare  \\\n",
       "0                        0.0           0.0     0.0  ...            1.0   \n",
       "1                        0.0           1.0     0.0  ...            0.0   \n",
       "2                        0.0           0.0     1.0  ...            1.0   \n",
       "3                        0.0           1.0     1.0  ...            1.0   \n",
       "4                        0.0           1.0     1.0  ...            1.0   \n",
       "...                      ...           ...     ...  ...            ...   \n",
       "253675                   0.0           0.0     1.0  ...            1.0   \n",
       "253676                   0.0           0.0     0.0  ...            1.0   \n",
       "253677                   0.0           1.0     1.0  ...            1.0   \n",
       "253678                   0.0           0.0     1.0  ...            1.0   \n",
       "253679                   1.0           1.0     1.0  ...            1.0   \n",
       "\n",
       "        NoDocbcCost  GenHlth  MentHlth  PhysHlth  DiffWalk  Sex   Age  \\\n",
       "0               0.0      5.0      18.0      15.0       1.0  0.0   9.0   \n",
       "1               1.0      3.0       0.0       0.0       0.0  0.0   7.0   \n",
       "2               1.0      5.0      30.0      30.0       1.0  0.0   9.0   \n",
       "3               0.0      2.0       0.0       0.0       0.0  0.0  11.0   \n",
       "4               0.0      2.0       3.0       0.0       0.0  0.0  11.0   \n",
       "...             ...      ...       ...       ...       ...  ...   ...   \n",
       "253675          0.0      3.0       0.0       5.0       0.0  1.0   5.0   \n",
       "253676          0.0      4.0       0.0       0.0       1.0  0.0  11.0   \n",
       "253677          0.0      1.0       0.0       0.0       0.0  0.0   2.0   \n",
       "253678          0.0      3.0       0.0       0.0       0.0  1.0   7.0   \n",
       "253679          0.0      2.0       0.0       0.0       0.0  0.0   9.0   \n",
       "\n",
       "        Education  Income  \n",
       "0             4.0     3.0  \n",
       "1             6.0     1.0  \n",
       "2             4.0     8.0  \n",
       "3             3.0     6.0  \n",
       "4             5.0     4.0  \n",
       "...           ...     ...  \n",
       "253675        6.0     7.0  \n",
       "253676        2.0     4.0  \n",
       "253677        5.0     2.0  \n",
       "253678        5.0     1.0  \n",
       "253679        6.0     2.0  \n",
       "\n",
       "[253680 rows x 22 columns]"
      ]
     },
     "execution_count": 12,
     "metadata": {},
     "output_type": "execute_result"
    }
   ],
   "source": [
    "dataset"
   ]
  },
  {
   "cell_type": "code",
   "execution_count": 13,
   "id": "ded88827",
   "metadata": {
    "colab": {
     "base_uri": "https://localhost:8080/"
    },
    "id": "ded88827",
    "outputId": "a4243601-5d08-4ae8-ae6f-71c1d85fd0f4"
   },
   "outputs": [
    {
     "data": {
      "text/plain": [
       "(253680, 22)"
      ]
     },
     "execution_count": 13,
     "metadata": {},
     "output_type": "execute_result"
    }
   ],
   "source": [
    "dataset.shape"
   ]
  },
  {
   "cell_type": "code",
   "execution_count": 14,
   "id": "9e3d2e4d",
   "metadata": {
    "colab": {
     "base_uri": "https://localhost:8080/",
     "height": 394
    },
    "id": "9e3d2e4d",
    "outputId": "baa93a59-5ebd-48a7-bc43-beabca19651b"
   },
   "outputs": [
    {
     "data": {
      "text/html": [
       "<div>\n",
       "<style scoped>\n",
       "    .dataframe tbody tr th:only-of-type {\n",
       "        vertical-align: middle;\n",
       "    }\n",
       "\n",
       "    .dataframe tbody tr th {\n",
       "        vertical-align: top;\n",
       "    }\n",
       "\n",
       "    .dataframe thead th {\n",
       "        text-align: right;\n",
       "    }\n",
       "</style>\n",
       "<table border=\"1\" class=\"dataframe\">\n",
       "  <thead>\n",
       "    <tr style=\"text-align: right;\">\n",
       "      <th></th>\n",
       "      <th>Diabetes_binary</th>\n",
       "      <th>HighBP</th>\n",
       "      <th>HighChol</th>\n",
       "      <th>CholCheck</th>\n",
       "      <th>BMI</th>\n",
       "      <th>Smoker</th>\n",
       "      <th>Stroke</th>\n",
       "      <th>HeartDiseaseorAttack</th>\n",
       "      <th>PhysActivity</th>\n",
       "      <th>Fruits</th>\n",
       "      <th>...</th>\n",
       "      <th>AnyHealthcare</th>\n",
       "      <th>NoDocbcCost</th>\n",
       "      <th>GenHlth</th>\n",
       "      <th>MentHlth</th>\n",
       "      <th>PhysHlth</th>\n",
       "      <th>DiffWalk</th>\n",
       "      <th>Sex</th>\n",
       "      <th>Age</th>\n",
       "      <th>Education</th>\n",
       "      <th>Income</th>\n",
       "    </tr>\n",
       "  </thead>\n",
       "  <tbody>\n",
       "    <tr>\n",
       "      <th>count</th>\n",
       "      <td>253680.000000</td>\n",
       "      <td>253680.000000</td>\n",
       "      <td>253680.000000</td>\n",
       "      <td>253680.000000</td>\n",
       "      <td>253680.000000</td>\n",
       "      <td>253680.000000</td>\n",
       "      <td>253680.000000</td>\n",
       "      <td>253680.000000</td>\n",
       "      <td>253680.000000</td>\n",
       "      <td>253680.000000</td>\n",
       "      <td>...</td>\n",
       "      <td>253680.000000</td>\n",
       "      <td>253680.000000</td>\n",
       "      <td>253680.000000</td>\n",
       "      <td>253680.000000</td>\n",
       "      <td>253680.000000</td>\n",
       "      <td>253680.000000</td>\n",
       "      <td>253680.000000</td>\n",
       "      <td>253680.000000</td>\n",
       "      <td>253680.000000</td>\n",
       "      <td>253680.000000</td>\n",
       "    </tr>\n",
       "    <tr>\n",
       "      <th>mean</th>\n",
       "      <td>0.139333</td>\n",
       "      <td>0.429001</td>\n",
       "      <td>0.424121</td>\n",
       "      <td>0.962670</td>\n",
       "      <td>28.382364</td>\n",
       "      <td>0.443169</td>\n",
       "      <td>0.040571</td>\n",
       "      <td>0.094186</td>\n",
       "      <td>0.756544</td>\n",
       "      <td>0.634256</td>\n",
       "      <td>...</td>\n",
       "      <td>0.951053</td>\n",
       "      <td>0.084177</td>\n",
       "      <td>2.511392</td>\n",
       "      <td>3.184772</td>\n",
       "      <td>4.242081</td>\n",
       "      <td>0.168224</td>\n",
       "      <td>0.440342</td>\n",
       "      <td>8.032119</td>\n",
       "      <td>5.050434</td>\n",
       "      <td>6.053875</td>\n",
       "    </tr>\n",
       "    <tr>\n",
       "      <th>std</th>\n",
       "      <td>0.346294</td>\n",
       "      <td>0.494934</td>\n",
       "      <td>0.494210</td>\n",
       "      <td>0.189571</td>\n",
       "      <td>6.608694</td>\n",
       "      <td>0.496761</td>\n",
       "      <td>0.197294</td>\n",
       "      <td>0.292087</td>\n",
       "      <td>0.429169</td>\n",
       "      <td>0.481639</td>\n",
       "      <td>...</td>\n",
       "      <td>0.215759</td>\n",
       "      <td>0.277654</td>\n",
       "      <td>1.068477</td>\n",
       "      <td>7.412847</td>\n",
       "      <td>8.717951</td>\n",
       "      <td>0.374066</td>\n",
       "      <td>0.496429</td>\n",
       "      <td>3.054220</td>\n",
       "      <td>0.985774</td>\n",
       "      <td>2.071148</td>\n",
       "    </tr>\n",
       "    <tr>\n",
       "      <th>min</th>\n",
       "      <td>0.000000</td>\n",
       "      <td>0.000000</td>\n",
       "      <td>0.000000</td>\n",
       "      <td>0.000000</td>\n",
       "      <td>12.000000</td>\n",
       "      <td>0.000000</td>\n",
       "      <td>0.000000</td>\n",
       "      <td>0.000000</td>\n",
       "      <td>0.000000</td>\n",
       "      <td>0.000000</td>\n",
       "      <td>...</td>\n",
       "      <td>0.000000</td>\n",
       "      <td>0.000000</td>\n",
       "      <td>1.000000</td>\n",
       "      <td>0.000000</td>\n",
       "      <td>0.000000</td>\n",
       "      <td>0.000000</td>\n",
       "      <td>0.000000</td>\n",
       "      <td>1.000000</td>\n",
       "      <td>1.000000</td>\n",
       "      <td>1.000000</td>\n",
       "    </tr>\n",
       "    <tr>\n",
       "      <th>25%</th>\n",
       "      <td>0.000000</td>\n",
       "      <td>0.000000</td>\n",
       "      <td>0.000000</td>\n",
       "      <td>1.000000</td>\n",
       "      <td>24.000000</td>\n",
       "      <td>0.000000</td>\n",
       "      <td>0.000000</td>\n",
       "      <td>0.000000</td>\n",
       "      <td>1.000000</td>\n",
       "      <td>0.000000</td>\n",
       "      <td>...</td>\n",
       "      <td>1.000000</td>\n",
       "      <td>0.000000</td>\n",
       "      <td>2.000000</td>\n",
       "      <td>0.000000</td>\n",
       "      <td>0.000000</td>\n",
       "      <td>0.000000</td>\n",
       "      <td>0.000000</td>\n",
       "      <td>6.000000</td>\n",
       "      <td>4.000000</td>\n",
       "      <td>5.000000</td>\n",
       "    </tr>\n",
       "    <tr>\n",
       "      <th>50%</th>\n",
       "      <td>0.000000</td>\n",
       "      <td>0.000000</td>\n",
       "      <td>0.000000</td>\n",
       "      <td>1.000000</td>\n",
       "      <td>27.000000</td>\n",
       "      <td>0.000000</td>\n",
       "      <td>0.000000</td>\n",
       "      <td>0.000000</td>\n",
       "      <td>1.000000</td>\n",
       "      <td>1.000000</td>\n",
       "      <td>...</td>\n",
       "      <td>1.000000</td>\n",
       "      <td>0.000000</td>\n",
       "      <td>2.000000</td>\n",
       "      <td>0.000000</td>\n",
       "      <td>0.000000</td>\n",
       "      <td>0.000000</td>\n",
       "      <td>0.000000</td>\n",
       "      <td>8.000000</td>\n",
       "      <td>5.000000</td>\n",
       "      <td>7.000000</td>\n",
       "    </tr>\n",
       "    <tr>\n",
       "      <th>75%</th>\n",
       "      <td>0.000000</td>\n",
       "      <td>1.000000</td>\n",
       "      <td>1.000000</td>\n",
       "      <td>1.000000</td>\n",
       "      <td>31.000000</td>\n",
       "      <td>1.000000</td>\n",
       "      <td>0.000000</td>\n",
       "      <td>0.000000</td>\n",
       "      <td>1.000000</td>\n",
       "      <td>1.000000</td>\n",
       "      <td>...</td>\n",
       "      <td>1.000000</td>\n",
       "      <td>0.000000</td>\n",
       "      <td>3.000000</td>\n",
       "      <td>2.000000</td>\n",
       "      <td>3.000000</td>\n",
       "      <td>0.000000</td>\n",
       "      <td>1.000000</td>\n",
       "      <td>10.000000</td>\n",
       "      <td>6.000000</td>\n",
       "      <td>8.000000</td>\n",
       "    </tr>\n",
       "    <tr>\n",
       "      <th>max</th>\n",
       "      <td>1.000000</td>\n",
       "      <td>1.000000</td>\n",
       "      <td>1.000000</td>\n",
       "      <td>1.000000</td>\n",
       "      <td>98.000000</td>\n",
       "      <td>1.000000</td>\n",
       "      <td>1.000000</td>\n",
       "      <td>1.000000</td>\n",
       "      <td>1.000000</td>\n",
       "      <td>1.000000</td>\n",
       "      <td>...</td>\n",
       "      <td>1.000000</td>\n",
       "      <td>1.000000</td>\n",
       "      <td>5.000000</td>\n",
       "      <td>30.000000</td>\n",
       "      <td>30.000000</td>\n",
       "      <td>1.000000</td>\n",
       "      <td>1.000000</td>\n",
       "      <td>13.000000</td>\n",
       "      <td>6.000000</td>\n",
       "      <td>8.000000</td>\n",
       "    </tr>\n",
       "  </tbody>\n",
       "</table>\n",
       "<p>8 rows × 22 columns</p>\n",
       "</div>"
      ],
      "text/plain": [
       "       Diabetes_binary         HighBP       HighChol      CholCheck  \\\n",
       "count    253680.000000  253680.000000  253680.000000  253680.000000   \n",
       "mean          0.139333       0.429001       0.424121       0.962670   \n",
       "std           0.346294       0.494934       0.494210       0.189571   \n",
       "min           0.000000       0.000000       0.000000       0.000000   \n",
       "25%           0.000000       0.000000       0.000000       1.000000   \n",
       "50%           0.000000       0.000000       0.000000       1.000000   \n",
       "75%           0.000000       1.000000       1.000000       1.000000   \n",
       "max           1.000000       1.000000       1.000000       1.000000   \n",
       "\n",
       "                 BMI         Smoker         Stroke  HeartDiseaseorAttack  \\\n",
       "count  253680.000000  253680.000000  253680.000000         253680.000000   \n",
       "mean       28.382364       0.443169       0.040571              0.094186   \n",
       "std         6.608694       0.496761       0.197294              0.292087   \n",
       "min        12.000000       0.000000       0.000000              0.000000   \n",
       "25%        24.000000       0.000000       0.000000              0.000000   \n",
       "50%        27.000000       0.000000       0.000000              0.000000   \n",
       "75%        31.000000       1.000000       0.000000              0.000000   \n",
       "max        98.000000       1.000000       1.000000              1.000000   \n",
       "\n",
       "        PhysActivity         Fruits  ...  AnyHealthcare    NoDocbcCost  \\\n",
       "count  253680.000000  253680.000000  ...  253680.000000  253680.000000   \n",
       "mean        0.756544       0.634256  ...       0.951053       0.084177   \n",
       "std         0.429169       0.481639  ...       0.215759       0.277654   \n",
       "min         0.000000       0.000000  ...       0.000000       0.000000   \n",
       "25%         1.000000       0.000000  ...       1.000000       0.000000   \n",
       "50%         1.000000       1.000000  ...       1.000000       0.000000   \n",
       "75%         1.000000       1.000000  ...       1.000000       0.000000   \n",
       "max         1.000000       1.000000  ...       1.000000       1.000000   \n",
       "\n",
       "             GenHlth       MentHlth       PhysHlth       DiffWalk  \\\n",
       "count  253680.000000  253680.000000  253680.000000  253680.000000   \n",
       "mean        2.511392       3.184772       4.242081       0.168224   \n",
       "std         1.068477       7.412847       8.717951       0.374066   \n",
       "min         1.000000       0.000000       0.000000       0.000000   \n",
       "25%         2.000000       0.000000       0.000000       0.000000   \n",
       "50%         2.000000       0.000000       0.000000       0.000000   \n",
       "75%         3.000000       2.000000       3.000000       0.000000   \n",
       "max         5.000000      30.000000      30.000000       1.000000   \n",
       "\n",
       "                 Sex            Age      Education         Income  \n",
       "count  253680.000000  253680.000000  253680.000000  253680.000000  \n",
       "mean        0.440342       8.032119       5.050434       6.053875  \n",
       "std         0.496429       3.054220       0.985774       2.071148  \n",
       "min         0.000000       1.000000       1.000000       1.000000  \n",
       "25%         0.000000       6.000000       4.000000       5.000000  \n",
       "50%         0.000000       8.000000       5.000000       7.000000  \n",
       "75%         1.000000      10.000000       6.000000       8.000000  \n",
       "max         1.000000      13.000000       6.000000       8.000000  \n",
       "\n",
       "[8 rows x 22 columns]"
      ]
     },
     "execution_count": 14,
     "metadata": {},
     "output_type": "execute_result"
    }
   ],
   "source": [
    "dataset.describe()"
   ]
  },
  {
   "cell_type": "code",
   "execution_count": 15,
   "id": "72eee07b",
   "metadata": {
    "colab": {
     "base_uri": "https://localhost:8080/"
    },
    "id": "72eee07b",
    "outputId": "b2218dbd-151f-49af-8c32-018ee763ccba"
   },
   "outputs": [
    {
     "data": {
      "text/plain": [
       "Diabetes_binary         float64\n",
       "HighBP                  float64\n",
       "HighChol                float64\n",
       "CholCheck               float64\n",
       "BMI                     float64\n",
       "Smoker                  float64\n",
       "Stroke                  float64\n",
       "HeartDiseaseorAttack    float64\n",
       "PhysActivity            float64\n",
       "Fruits                  float64\n",
       "Veggies                 float64\n",
       "HvyAlcoholConsump       float64\n",
       "AnyHealthcare           float64\n",
       "NoDocbcCost             float64\n",
       "GenHlth                 float64\n",
       "MentHlth                float64\n",
       "PhysHlth                float64\n",
       "DiffWalk                float64\n",
       "Sex                     float64\n",
       "Age                     float64\n",
       "Education               float64\n",
       "Income                  float64\n",
       "dtype: object"
      ]
     },
     "execution_count": 15,
     "metadata": {},
     "output_type": "execute_result"
    }
   ],
   "source": [
    "dataset.dtypes"
   ]
  },
  {
   "cell_type": "code",
   "execution_count": 16,
   "id": "22f09e2a",
   "metadata": {
    "colab": {
     "base_uri": "https://localhost:8080/"
    },
    "id": "22f09e2a",
    "outputId": "332dc6b5-0870-4173-a5ab-536706983ac8"
   },
   "outputs": [
    {
     "data": {
      "text/plain": [
       "(253680, 22)"
      ]
     },
     "execution_count": 16,
     "metadata": {},
     "output_type": "execute_result"
    }
   ],
   "source": [
    "dataset.shape"
   ]
  },
  {
   "cell_type": "code",
   "execution_count": 17,
   "id": "vI1EtmW8AUfI",
   "metadata": {
    "colab": {
     "base_uri": "https://localhost:8080/"
    },
    "id": "vI1EtmW8AUfI",
    "outputId": "628223c5-6907-4d22-f8ce-3d381026ae63"
   },
   "outputs": [
    {
     "data": {
      "text/plain": [
       "24206"
      ]
     },
     "execution_count": 17,
     "metadata": {},
     "output_type": "execute_result"
    }
   ],
   "source": [
    "dataset.duplicated().sum()"
   ]
  },
  {
   "cell_type": "code",
   "execution_count": 18,
   "id": "nL4JPPhFAdhR",
   "metadata": {
    "id": "nL4JPPhFAdhR"
   },
   "outputs": [],
   "source": [
    "dataset = dataset.drop_duplicates()"
   ]
  },
  {
   "cell_type": "code",
   "execution_count": 19,
   "id": "1T7NatnUAkli",
   "metadata": {
    "colab": {
     "base_uri": "https://localhost:8080/"
    },
    "id": "1T7NatnUAkli",
    "outputId": "e8e84725-95fc-4b98-8a7c-6c1b69e20a44"
   },
   "outputs": [
    {
     "data": {
      "text/plain": [
       "(229474, 22)"
      ]
     },
     "execution_count": 19,
     "metadata": {},
     "output_type": "execute_result"
    }
   ],
   "source": [
    "dataset.shape"
   ]
  },
  {
   "cell_type": "code",
   "execution_count": 20,
   "id": "47c08dee",
   "metadata": {
    "id": "47c08dee"
   },
   "outputs": [],
   "source": [
    "import os.path "
   ]
  },
  {
   "cell_type": "code",
   "execution_count": 21,
   "id": "wHChZHzcSPT2",
   "metadata": {
    "colab": {
     "base_uri": "https://localhost:8080/"
    },
    "id": "wHChZHzcSPT2",
    "outputId": "92e2e438-5968-42e7-a410-1d09f3f3ecdc"
   },
   "outputs": [
    {
     "name": "stdout",
     "output_type": "stream",
     "text": [
      "exist\n"
     ]
    }
   ],
   "source": [
    "if not(os.path.exists('dataset_')):\n",
    "    with open('dataset_' ,'wb') as dataset_f:\n",
    "        pickle.dump(dataset,  dataset_f)\n",
    "else: \n",
    "    with open('dataset_', 'rb') as dataset_load:\n",
    "        loaded_dataset = pickle.load(dataset_load )\n",
    "        print(\"exist\")"
   ]
  },
  {
   "cell_type": "code",
   "execution_count": 22,
   "id": "37e3c8c8",
   "metadata": {
    "id": "37e3c8c8"
   },
   "outputs": [],
   "source": [
    "X = loaded_dataset.drop(['Diabetes_binary'],axis=1,inplace=False)"
   ]
  },
  {
   "cell_type": "code",
   "execution_count": 23,
   "id": "48a5029c",
   "metadata": {
    "id": "48a5029c"
   },
   "outputs": [],
   "source": [
    "y = loaded_dataset['Diabetes_binary']"
   ]
  },
  {
   "cell_type": "code",
   "execution_count": 24,
   "id": "aed6d28a",
   "metadata": {
    "colab": {
     "base_uri": "https://localhost:8080/",
     "height": 488
    },
    "id": "aed6d28a",
    "outputId": "f92befa2-9f5f-456a-b3f7-7adfc39e23d0"
   },
   "outputs": [
    {
     "data": {
      "text/html": [
       "<div>\n",
       "<style scoped>\n",
       "    .dataframe tbody tr th:only-of-type {\n",
       "        vertical-align: middle;\n",
       "    }\n",
       "\n",
       "    .dataframe tbody tr th {\n",
       "        vertical-align: top;\n",
       "    }\n",
       "\n",
       "    .dataframe thead th {\n",
       "        text-align: right;\n",
       "    }\n",
       "</style>\n",
       "<table border=\"1\" class=\"dataframe\">\n",
       "  <thead>\n",
       "    <tr style=\"text-align: right;\">\n",
       "      <th></th>\n",
       "      <th>HighBP</th>\n",
       "      <th>HighChol</th>\n",
       "      <th>CholCheck</th>\n",
       "      <th>BMI</th>\n",
       "      <th>Smoker</th>\n",
       "      <th>Stroke</th>\n",
       "      <th>HeartDiseaseorAttack</th>\n",
       "      <th>PhysActivity</th>\n",
       "      <th>Fruits</th>\n",
       "      <th>Veggies</th>\n",
       "      <th>...</th>\n",
       "      <th>AnyHealthcare</th>\n",
       "      <th>NoDocbcCost</th>\n",
       "      <th>GenHlth</th>\n",
       "      <th>MentHlth</th>\n",
       "      <th>PhysHlth</th>\n",
       "      <th>DiffWalk</th>\n",
       "      <th>Sex</th>\n",
       "      <th>Age</th>\n",
       "      <th>Education</th>\n",
       "      <th>Income</th>\n",
       "    </tr>\n",
       "  </thead>\n",
       "  <tbody>\n",
       "    <tr>\n",
       "      <th>0</th>\n",
       "      <td>1.0</td>\n",
       "      <td>1.0</td>\n",
       "      <td>1.0</td>\n",
       "      <td>40.0</td>\n",
       "      <td>1.0</td>\n",
       "      <td>0.0</td>\n",
       "      <td>0.0</td>\n",
       "      <td>0.0</td>\n",
       "      <td>0.0</td>\n",
       "      <td>1.0</td>\n",
       "      <td>...</td>\n",
       "      <td>1.0</td>\n",
       "      <td>0.0</td>\n",
       "      <td>5.0</td>\n",
       "      <td>18.0</td>\n",
       "      <td>15.0</td>\n",
       "      <td>1.0</td>\n",
       "      <td>0.0</td>\n",
       "      <td>9.0</td>\n",
       "      <td>4.0</td>\n",
       "      <td>3.0</td>\n",
       "    </tr>\n",
       "    <tr>\n",
       "      <th>1</th>\n",
       "      <td>0.0</td>\n",
       "      <td>0.0</td>\n",
       "      <td>0.0</td>\n",
       "      <td>25.0</td>\n",
       "      <td>1.0</td>\n",
       "      <td>0.0</td>\n",
       "      <td>0.0</td>\n",
       "      <td>1.0</td>\n",
       "      <td>0.0</td>\n",
       "      <td>0.0</td>\n",
       "      <td>...</td>\n",
       "      <td>0.0</td>\n",
       "      <td>1.0</td>\n",
       "      <td>3.0</td>\n",
       "      <td>0.0</td>\n",
       "      <td>0.0</td>\n",
       "      <td>0.0</td>\n",
       "      <td>0.0</td>\n",
       "      <td>7.0</td>\n",
       "      <td>6.0</td>\n",
       "      <td>1.0</td>\n",
       "    </tr>\n",
       "    <tr>\n",
       "      <th>2</th>\n",
       "      <td>1.0</td>\n",
       "      <td>1.0</td>\n",
       "      <td>1.0</td>\n",
       "      <td>28.0</td>\n",
       "      <td>0.0</td>\n",
       "      <td>0.0</td>\n",
       "      <td>0.0</td>\n",
       "      <td>0.0</td>\n",
       "      <td>1.0</td>\n",
       "      <td>0.0</td>\n",
       "      <td>...</td>\n",
       "      <td>1.0</td>\n",
       "      <td>1.0</td>\n",
       "      <td>5.0</td>\n",
       "      <td>30.0</td>\n",
       "      <td>30.0</td>\n",
       "      <td>1.0</td>\n",
       "      <td>0.0</td>\n",
       "      <td>9.0</td>\n",
       "      <td>4.0</td>\n",
       "      <td>8.0</td>\n",
       "    </tr>\n",
       "    <tr>\n",
       "      <th>3</th>\n",
       "      <td>1.0</td>\n",
       "      <td>0.0</td>\n",
       "      <td>1.0</td>\n",
       "      <td>27.0</td>\n",
       "      <td>0.0</td>\n",
       "      <td>0.0</td>\n",
       "      <td>0.0</td>\n",
       "      <td>1.0</td>\n",
       "      <td>1.0</td>\n",
       "      <td>1.0</td>\n",
       "      <td>...</td>\n",
       "      <td>1.0</td>\n",
       "      <td>0.0</td>\n",
       "      <td>2.0</td>\n",
       "      <td>0.0</td>\n",
       "      <td>0.0</td>\n",
       "      <td>0.0</td>\n",
       "      <td>0.0</td>\n",
       "      <td>11.0</td>\n",
       "      <td>3.0</td>\n",
       "      <td>6.0</td>\n",
       "    </tr>\n",
       "    <tr>\n",
       "      <th>4</th>\n",
       "      <td>1.0</td>\n",
       "      <td>1.0</td>\n",
       "      <td>1.0</td>\n",
       "      <td>24.0</td>\n",
       "      <td>0.0</td>\n",
       "      <td>0.0</td>\n",
       "      <td>0.0</td>\n",
       "      <td>1.0</td>\n",
       "      <td>1.0</td>\n",
       "      <td>1.0</td>\n",
       "      <td>...</td>\n",
       "      <td>1.0</td>\n",
       "      <td>0.0</td>\n",
       "      <td>2.0</td>\n",
       "      <td>3.0</td>\n",
       "      <td>0.0</td>\n",
       "      <td>0.0</td>\n",
       "      <td>0.0</td>\n",
       "      <td>11.0</td>\n",
       "      <td>5.0</td>\n",
       "      <td>4.0</td>\n",
       "    </tr>\n",
       "    <tr>\n",
       "      <th>...</th>\n",
       "      <td>...</td>\n",
       "      <td>...</td>\n",
       "      <td>...</td>\n",
       "      <td>...</td>\n",
       "      <td>...</td>\n",
       "      <td>...</td>\n",
       "      <td>...</td>\n",
       "      <td>...</td>\n",
       "      <td>...</td>\n",
       "      <td>...</td>\n",
       "      <td>...</td>\n",
       "      <td>...</td>\n",
       "      <td>...</td>\n",
       "      <td>...</td>\n",
       "      <td>...</td>\n",
       "      <td>...</td>\n",
       "      <td>...</td>\n",
       "      <td>...</td>\n",
       "      <td>...</td>\n",
       "      <td>...</td>\n",
       "      <td>...</td>\n",
       "    </tr>\n",
       "    <tr>\n",
       "      <th>253675</th>\n",
       "      <td>1.0</td>\n",
       "      <td>1.0</td>\n",
       "      <td>1.0</td>\n",
       "      <td>45.0</td>\n",
       "      <td>0.0</td>\n",
       "      <td>0.0</td>\n",
       "      <td>0.0</td>\n",
       "      <td>0.0</td>\n",
       "      <td>1.0</td>\n",
       "      <td>1.0</td>\n",
       "      <td>...</td>\n",
       "      <td>1.0</td>\n",
       "      <td>0.0</td>\n",
       "      <td>3.0</td>\n",
       "      <td>0.0</td>\n",
       "      <td>5.0</td>\n",
       "      <td>0.0</td>\n",
       "      <td>1.0</td>\n",
       "      <td>5.0</td>\n",
       "      <td>6.0</td>\n",
       "      <td>7.0</td>\n",
       "    </tr>\n",
       "    <tr>\n",
       "      <th>253676</th>\n",
       "      <td>1.0</td>\n",
       "      <td>1.0</td>\n",
       "      <td>1.0</td>\n",
       "      <td>18.0</td>\n",
       "      <td>0.0</td>\n",
       "      <td>0.0</td>\n",
       "      <td>0.0</td>\n",
       "      <td>0.0</td>\n",
       "      <td>0.0</td>\n",
       "      <td>0.0</td>\n",
       "      <td>...</td>\n",
       "      <td>1.0</td>\n",
       "      <td>0.0</td>\n",
       "      <td>4.0</td>\n",
       "      <td>0.0</td>\n",
       "      <td>0.0</td>\n",
       "      <td>1.0</td>\n",
       "      <td>0.0</td>\n",
       "      <td>11.0</td>\n",
       "      <td>2.0</td>\n",
       "      <td>4.0</td>\n",
       "    </tr>\n",
       "    <tr>\n",
       "      <th>253677</th>\n",
       "      <td>0.0</td>\n",
       "      <td>0.0</td>\n",
       "      <td>1.0</td>\n",
       "      <td>28.0</td>\n",
       "      <td>0.0</td>\n",
       "      <td>0.0</td>\n",
       "      <td>0.0</td>\n",
       "      <td>1.0</td>\n",
       "      <td>1.0</td>\n",
       "      <td>0.0</td>\n",
       "      <td>...</td>\n",
       "      <td>1.0</td>\n",
       "      <td>0.0</td>\n",
       "      <td>1.0</td>\n",
       "      <td>0.0</td>\n",
       "      <td>0.0</td>\n",
       "      <td>0.0</td>\n",
       "      <td>0.0</td>\n",
       "      <td>2.0</td>\n",
       "      <td>5.0</td>\n",
       "      <td>2.0</td>\n",
       "    </tr>\n",
       "    <tr>\n",
       "      <th>253678</th>\n",
       "      <td>1.0</td>\n",
       "      <td>0.0</td>\n",
       "      <td>1.0</td>\n",
       "      <td>23.0</td>\n",
       "      <td>0.0</td>\n",
       "      <td>0.0</td>\n",
       "      <td>0.0</td>\n",
       "      <td>0.0</td>\n",
       "      <td>1.0</td>\n",
       "      <td>1.0</td>\n",
       "      <td>...</td>\n",
       "      <td>1.0</td>\n",
       "      <td>0.0</td>\n",
       "      <td>3.0</td>\n",
       "      <td>0.0</td>\n",
       "      <td>0.0</td>\n",
       "      <td>0.0</td>\n",
       "      <td>1.0</td>\n",
       "      <td>7.0</td>\n",
       "      <td>5.0</td>\n",
       "      <td>1.0</td>\n",
       "    </tr>\n",
       "    <tr>\n",
       "      <th>253679</th>\n",
       "      <td>1.0</td>\n",
       "      <td>1.0</td>\n",
       "      <td>1.0</td>\n",
       "      <td>25.0</td>\n",
       "      <td>0.0</td>\n",
       "      <td>0.0</td>\n",
       "      <td>1.0</td>\n",
       "      <td>1.0</td>\n",
       "      <td>1.0</td>\n",
       "      <td>0.0</td>\n",
       "      <td>...</td>\n",
       "      <td>1.0</td>\n",
       "      <td>0.0</td>\n",
       "      <td>2.0</td>\n",
       "      <td>0.0</td>\n",
       "      <td>0.0</td>\n",
       "      <td>0.0</td>\n",
       "      <td>0.0</td>\n",
       "      <td>9.0</td>\n",
       "      <td>6.0</td>\n",
       "      <td>2.0</td>\n",
       "    </tr>\n",
       "  </tbody>\n",
       "</table>\n",
       "<p>229474 rows × 21 columns</p>\n",
       "</div>"
      ],
      "text/plain": [
       "        HighBP  HighChol  CholCheck   BMI  Smoker  Stroke  \\\n",
       "0          1.0       1.0        1.0  40.0     1.0     0.0   \n",
       "1          0.0       0.0        0.0  25.0     1.0     0.0   \n",
       "2          1.0       1.0        1.0  28.0     0.0     0.0   \n",
       "3          1.0       0.0        1.0  27.0     0.0     0.0   \n",
       "4          1.0       1.0        1.0  24.0     0.0     0.0   \n",
       "...        ...       ...        ...   ...     ...     ...   \n",
       "253675     1.0       1.0        1.0  45.0     0.0     0.0   \n",
       "253676     1.0       1.0        1.0  18.0     0.0     0.0   \n",
       "253677     0.0       0.0        1.0  28.0     0.0     0.0   \n",
       "253678     1.0       0.0        1.0  23.0     0.0     0.0   \n",
       "253679     1.0       1.0        1.0  25.0     0.0     0.0   \n",
       "\n",
       "        HeartDiseaseorAttack  PhysActivity  Fruits  Veggies  ...  \\\n",
       "0                        0.0           0.0     0.0      1.0  ...   \n",
       "1                        0.0           1.0     0.0      0.0  ...   \n",
       "2                        0.0           0.0     1.0      0.0  ...   \n",
       "3                        0.0           1.0     1.0      1.0  ...   \n",
       "4                        0.0           1.0     1.0      1.0  ...   \n",
       "...                      ...           ...     ...      ...  ...   \n",
       "253675                   0.0           0.0     1.0      1.0  ...   \n",
       "253676                   0.0           0.0     0.0      0.0  ...   \n",
       "253677                   0.0           1.0     1.0      0.0  ...   \n",
       "253678                   0.0           0.0     1.0      1.0  ...   \n",
       "253679                   1.0           1.0     1.0      0.0  ...   \n",
       "\n",
       "        AnyHealthcare  NoDocbcCost  GenHlth  MentHlth  PhysHlth  DiffWalk  \\\n",
       "0                 1.0          0.0      5.0      18.0      15.0       1.0   \n",
       "1                 0.0          1.0      3.0       0.0       0.0       0.0   \n",
       "2                 1.0          1.0      5.0      30.0      30.0       1.0   \n",
       "3                 1.0          0.0      2.0       0.0       0.0       0.0   \n",
       "4                 1.0          0.0      2.0       3.0       0.0       0.0   \n",
       "...               ...          ...      ...       ...       ...       ...   \n",
       "253675            1.0          0.0      3.0       0.0       5.0       0.0   \n",
       "253676            1.0          0.0      4.0       0.0       0.0       1.0   \n",
       "253677            1.0          0.0      1.0       0.0       0.0       0.0   \n",
       "253678            1.0          0.0      3.0       0.0       0.0       0.0   \n",
       "253679            1.0          0.0      2.0       0.0       0.0       0.0   \n",
       "\n",
       "        Sex   Age  Education  Income  \n",
       "0       0.0   9.0        4.0     3.0  \n",
       "1       0.0   7.0        6.0     1.0  \n",
       "2       0.0   9.0        4.0     8.0  \n",
       "3       0.0  11.0        3.0     6.0  \n",
       "4       0.0  11.0        5.0     4.0  \n",
       "...     ...   ...        ...     ...  \n",
       "253675  1.0   5.0        6.0     7.0  \n",
       "253676  0.0  11.0        2.0     4.0  \n",
       "253677  0.0   2.0        5.0     2.0  \n",
       "253678  1.0   7.0        5.0     1.0  \n",
       "253679  0.0   9.0        6.0     2.0  \n",
       "\n",
       "[229474 rows x 21 columns]"
      ]
     },
     "execution_count": 24,
     "metadata": {},
     "output_type": "execute_result"
    }
   ],
   "source": [
    "X"
   ]
  },
  {
   "cell_type": "code",
   "execution_count": 25,
   "id": "b07eb075",
   "metadata": {
    "colab": {
     "base_uri": "https://localhost:8080/"
    },
    "id": "b07eb075",
    "outputId": "d99e7f14-19d1-48ca-a896-db6793bf7b6b"
   },
   "outputs": [
    {
     "data": {
      "text/plain": [
       "0         0.0\n",
       "1         0.0\n",
       "2         0.0\n",
       "3         0.0\n",
       "4         0.0\n",
       "         ... \n",
       "253675    0.0\n",
       "253676    1.0\n",
       "253677    0.0\n",
       "253678    0.0\n",
       "253679    1.0\n",
       "Name: Diabetes_binary, Length: 229474, dtype: float64"
      ]
     },
     "execution_count": 25,
     "metadata": {},
     "output_type": "execute_result"
    }
   ],
   "source": [
    "y"
   ]
  },
  {
   "cell_type": "code",
   "execution_count": 26,
   "id": "d9e1daa7",
   "metadata": {
    "id": "d9e1daa7"
   },
   "outputs": [],
   "source": [
    "features = tuple(X.columns)"
   ]
  },
  {
   "cell_type": "code",
   "execution_count": 27,
   "id": "cae8eea0",
   "metadata": {
    "colab": {
     "base_uri": "https://localhost:8080/"
    },
    "id": "cae8eea0",
    "outputId": "cd04fc86-2ee6-4f6b-fe2a-b2618377fa93"
   },
   "outputs": [
    {
     "data": {
      "text/plain": [
       "('HighBP',\n",
       " 'HighChol',\n",
       " 'CholCheck',\n",
       " 'BMI',\n",
       " 'Smoker',\n",
       " 'Stroke',\n",
       " 'HeartDiseaseorAttack',\n",
       " 'PhysActivity',\n",
       " 'Fruits',\n",
       " 'Veggies',\n",
       " 'HvyAlcoholConsump',\n",
       " 'AnyHealthcare',\n",
       " 'NoDocbcCost',\n",
       " 'GenHlth',\n",
       " 'MentHlth',\n",
       " 'PhysHlth',\n",
       " 'DiffWalk',\n",
       " 'Sex',\n",
       " 'Age',\n",
       " 'Education',\n",
       " 'Income')"
      ]
     },
     "execution_count": 27,
     "metadata": {},
     "output_type": "execute_result"
    }
   ],
   "source": [
    "features"
   ]
  },
  {
   "cell_type": "code",
   "execution_count": 28,
   "id": "ec2d0085",
   "metadata": {
    "colab": {
     "base_uri": "https://localhost:8080/"
    },
    "id": "ec2d0085",
    "outputId": "e1a347e8-4ff8-456a-eb30-7bfc3fafb60d"
   },
   "outputs": [
    {
     "name": "stdout",
     "output_type": "stream",
     "text": [
      "X_balanced shape is  (388754, 21)\n",
      "y_balanced shape is  (388754,)\n"
     ]
    }
   ],
   "source": [
    "from imblearn.over_sampling import RandomOverSampler \n",
    "sm = RandomOverSampler()\n",
    "X_over_sampled , y_over_sampled = sm.fit_resample(X , y )\n",
    "print(\"X_balanced shape is \" , X_over_sampled.shape )\n",
    "print(\"y_balanced shape is \" , y_over_sampled.shape )"
   ]
  },
  {
   "cell_type": "markdown",
   "id": "OHkLI1NkhmN4",
   "metadata": {
    "id": "OHkLI1NkhmN4"
   },
   "source": [
    "The algorithms befor feature selection "
   ]
  },
  {
   "cell_type": "code",
   "execution_count": 29,
   "id": "qkv24d7aist7",
   "metadata": {
    "id": "qkv24d7aist7"
   },
   "outputs": [],
   "source": [
    "from sklearn.preprocessing import StandardScaler"
   ]
  },
  {
   "cell_type": "code",
   "execution_count": 30,
   "id": "9Uca0aQvjU41",
   "metadata": {
    "id": "9Uca0aQvjU41"
   },
   "outputs": [],
   "source": [
    "X_all_features = X_over_sampled"
   ]
  },
  {
   "cell_type": "code",
   "execution_count": 31,
   "id": "22iKK2g-jVmJ",
   "metadata": {
    "colab": {
     "base_uri": "https://localhost:8080/",
     "height": 488
    },
    "id": "22iKK2g-jVmJ",
    "outputId": "2949702e-e4f9-46de-c295-0d5d5e130af4"
   },
   "outputs": [
    {
     "data": {
      "text/html": [
       "<div>\n",
       "<style scoped>\n",
       "    .dataframe tbody tr th:only-of-type {\n",
       "        vertical-align: middle;\n",
       "    }\n",
       "\n",
       "    .dataframe tbody tr th {\n",
       "        vertical-align: top;\n",
       "    }\n",
       "\n",
       "    .dataframe thead th {\n",
       "        text-align: right;\n",
       "    }\n",
       "</style>\n",
       "<table border=\"1\" class=\"dataframe\">\n",
       "  <thead>\n",
       "    <tr style=\"text-align: right;\">\n",
       "      <th></th>\n",
       "      <th>HighBP</th>\n",
       "      <th>HighChol</th>\n",
       "      <th>CholCheck</th>\n",
       "      <th>BMI</th>\n",
       "      <th>Smoker</th>\n",
       "      <th>Stroke</th>\n",
       "      <th>HeartDiseaseorAttack</th>\n",
       "      <th>PhysActivity</th>\n",
       "      <th>Fruits</th>\n",
       "      <th>Veggies</th>\n",
       "      <th>...</th>\n",
       "      <th>AnyHealthcare</th>\n",
       "      <th>NoDocbcCost</th>\n",
       "      <th>GenHlth</th>\n",
       "      <th>MentHlth</th>\n",
       "      <th>PhysHlth</th>\n",
       "      <th>DiffWalk</th>\n",
       "      <th>Sex</th>\n",
       "      <th>Age</th>\n",
       "      <th>Education</th>\n",
       "      <th>Income</th>\n",
       "    </tr>\n",
       "  </thead>\n",
       "  <tbody>\n",
       "    <tr>\n",
       "      <th>0</th>\n",
       "      <td>1.0</td>\n",
       "      <td>1.0</td>\n",
       "      <td>1.0</td>\n",
       "      <td>40.0</td>\n",
       "      <td>1.0</td>\n",
       "      <td>0.0</td>\n",
       "      <td>0.0</td>\n",
       "      <td>0.0</td>\n",
       "      <td>0.0</td>\n",
       "      <td>1.0</td>\n",
       "      <td>...</td>\n",
       "      <td>1.0</td>\n",
       "      <td>0.0</td>\n",
       "      <td>5.0</td>\n",
       "      <td>18.0</td>\n",
       "      <td>15.0</td>\n",
       "      <td>1.0</td>\n",
       "      <td>0.0</td>\n",
       "      <td>9.0</td>\n",
       "      <td>4.0</td>\n",
       "      <td>3.0</td>\n",
       "    </tr>\n",
       "    <tr>\n",
       "      <th>1</th>\n",
       "      <td>0.0</td>\n",
       "      <td>0.0</td>\n",
       "      <td>0.0</td>\n",
       "      <td>25.0</td>\n",
       "      <td>1.0</td>\n",
       "      <td>0.0</td>\n",
       "      <td>0.0</td>\n",
       "      <td>1.0</td>\n",
       "      <td>0.0</td>\n",
       "      <td>0.0</td>\n",
       "      <td>...</td>\n",
       "      <td>0.0</td>\n",
       "      <td>1.0</td>\n",
       "      <td>3.0</td>\n",
       "      <td>0.0</td>\n",
       "      <td>0.0</td>\n",
       "      <td>0.0</td>\n",
       "      <td>0.0</td>\n",
       "      <td>7.0</td>\n",
       "      <td>6.0</td>\n",
       "      <td>1.0</td>\n",
       "    </tr>\n",
       "    <tr>\n",
       "      <th>2</th>\n",
       "      <td>1.0</td>\n",
       "      <td>1.0</td>\n",
       "      <td>1.0</td>\n",
       "      <td>28.0</td>\n",
       "      <td>0.0</td>\n",
       "      <td>0.0</td>\n",
       "      <td>0.0</td>\n",
       "      <td>0.0</td>\n",
       "      <td>1.0</td>\n",
       "      <td>0.0</td>\n",
       "      <td>...</td>\n",
       "      <td>1.0</td>\n",
       "      <td>1.0</td>\n",
       "      <td>5.0</td>\n",
       "      <td>30.0</td>\n",
       "      <td>30.0</td>\n",
       "      <td>1.0</td>\n",
       "      <td>0.0</td>\n",
       "      <td>9.0</td>\n",
       "      <td>4.0</td>\n",
       "      <td>8.0</td>\n",
       "    </tr>\n",
       "    <tr>\n",
       "      <th>3</th>\n",
       "      <td>1.0</td>\n",
       "      <td>0.0</td>\n",
       "      <td>1.0</td>\n",
       "      <td>27.0</td>\n",
       "      <td>0.0</td>\n",
       "      <td>0.0</td>\n",
       "      <td>0.0</td>\n",
       "      <td>1.0</td>\n",
       "      <td>1.0</td>\n",
       "      <td>1.0</td>\n",
       "      <td>...</td>\n",
       "      <td>1.0</td>\n",
       "      <td>0.0</td>\n",
       "      <td>2.0</td>\n",
       "      <td>0.0</td>\n",
       "      <td>0.0</td>\n",
       "      <td>0.0</td>\n",
       "      <td>0.0</td>\n",
       "      <td>11.0</td>\n",
       "      <td>3.0</td>\n",
       "      <td>6.0</td>\n",
       "    </tr>\n",
       "    <tr>\n",
       "      <th>4</th>\n",
       "      <td>1.0</td>\n",
       "      <td>1.0</td>\n",
       "      <td>1.0</td>\n",
       "      <td>24.0</td>\n",
       "      <td>0.0</td>\n",
       "      <td>0.0</td>\n",
       "      <td>0.0</td>\n",
       "      <td>1.0</td>\n",
       "      <td>1.0</td>\n",
       "      <td>1.0</td>\n",
       "      <td>...</td>\n",
       "      <td>1.0</td>\n",
       "      <td>0.0</td>\n",
       "      <td>2.0</td>\n",
       "      <td>3.0</td>\n",
       "      <td>0.0</td>\n",
       "      <td>0.0</td>\n",
       "      <td>0.0</td>\n",
       "      <td>11.0</td>\n",
       "      <td>5.0</td>\n",
       "      <td>4.0</td>\n",
       "    </tr>\n",
       "    <tr>\n",
       "      <th>...</th>\n",
       "      <td>...</td>\n",
       "      <td>...</td>\n",
       "      <td>...</td>\n",
       "      <td>...</td>\n",
       "      <td>...</td>\n",
       "      <td>...</td>\n",
       "      <td>...</td>\n",
       "      <td>...</td>\n",
       "      <td>...</td>\n",
       "      <td>...</td>\n",
       "      <td>...</td>\n",
       "      <td>...</td>\n",
       "      <td>...</td>\n",
       "      <td>...</td>\n",
       "      <td>...</td>\n",
       "      <td>...</td>\n",
       "      <td>...</td>\n",
       "      <td>...</td>\n",
       "      <td>...</td>\n",
       "      <td>...</td>\n",
       "      <td>...</td>\n",
       "    </tr>\n",
       "    <tr>\n",
       "      <th>388749</th>\n",
       "      <td>0.0</td>\n",
       "      <td>0.0</td>\n",
       "      <td>1.0</td>\n",
       "      <td>22.0</td>\n",
       "      <td>1.0</td>\n",
       "      <td>0.0</td>\n",
       "      <td>0.0</td>\n",
       "      <td>1.0</td>\n",
       "      <td>1.0</td>\n",
       "      <td>0.0</td>\n",
       "      <td>...</td>\n",
       "      <td>1.0</td>\n",
       "      <td>0.0</td>\n",
       "      <td>3.0</td>\n",
       "      <td>0.0</td>\n",
       "      <td>0.0</td>\n",
       "      <td>0.0</td>\n",
       "      <td>1.0</td>\n",
       "      <td>12.0</td>\n",
       "      <td>5.0</td>\n",
       "      <td>7.0</td>\n",
       "    </tr>\n",
       "    <tr>\n",
       "      <th>388750</th>\n",
       "      <td>1.0</td>\n",
       "      <td>1.0</td>\n",
       "      <td>1.0</td>\n",
       "      <td>27.0</td>\n",
       "      <td>0.0</td>\n",
       "      <td>0.0</td>\n",
       "      <td>1.0</td>\n",
       "      <td>1.0</td>\n",
       "      <td>1.0</td>\n",
       "      <td>1.0</td>\n",
       "      <td>...</td>\n",
       "      <td>1.0</td>\n",
       "      <td>0.0</td>\n",
       "      <td>4.0</td>\n",
       "      <td>0.0</td>\n",
       "      <td>10.0</td>\n",
       "      <td>1.0</td>\n",
       "      <td>0.0</td>\n",
       "      <td>13.0</td>\n",
       "      <td>5.0</td>\n",
       "      <td>3.0</td>\n",
       "    </tr>\n",
       "    <tr>\n",
       "      <th>388751</th>\n",
       "      <td>1.0</td>\n",
       "      <td>1.0</td>\n",
       "      <td>1.0</td>\n",
       "      <td>36.0</td>\n",
       "      <td>1.0</td>\n",
       "      <td>0.0</td>\n",
       "      <td>1.0</td>\n",
       "      <td>1.0</td>\n",
       "      <td>1.0</td>\n",
       "      <td>1.0</td>\n",
       "      <td>...</td>\n",
       "      <td>1.0</td>\n",
       "      <td>0.0</td>\n",
       "      <td>4.0</td>\n",
       "      <td>0.0</td>\n",
       "      <td>14.0</td>\n",
       "      <td>1.0</td>\n",
       "      <td>1.0</td>\n",
       "      <td>9.0</td>\n",
       "      <td>3.0</td>\n",
       "      <td>6.0</td>\n",
       "    </tr>\n",
       "    <tr>\n",
       "      <th>388752</th>\n",
       "      <td>0.0</td>\n",
       "      <td>0.0</td>\n",
       "      <td>1.0</td>\n",
       "      <td>35.0</td>\n",
       "      <td>1.0</td>\n",
       "      <td>0.0</td>\n",
       "      <td>0.0</td>\n",
       "      <td>0.0</td>\n",
       "      <td>0.0</td>\n",
       "      <td>1.0</td>\n",
       "      <td>...</td>\n",
       "      <td>1.0</td>\n",
       "      <td>0.0</td>\n",
       "      <td>5.0</td>\n",
       "      <td>0.0</td>\n",
       "      <td>30.0</td>\n",
       "      <td>1.0</td>\n",
       "      <td>1.0</td>\n",
       "      <td>11.0</td>\n",
       "      <td>4.0</td>\n",
       "      <td>7.0</td>\n",
       "    </tr>\n",
       "    <tr>\n",
       "      <th>388753</th>\n",
       "      <td>1.0</td>\n",
       "      <td>0.0</td>\n",
       "      <td>1.0</td>\n",
       "      <td>35.0</td>\n",
       "      <td>0.0</td>\n",
       "      <td>0.0</td>\n",
       "      <td>0.0</td>\n",
       "      <td>1.0</td>\n",
       "      <td>1.0</td>\n",
       "      <td>1.0</td>\n",
       "      <td>...</td>\n",
       "      <td>1.0</td>\n",
       "      <td>1.0</td>\n",
       "      <td>3.0</td>\n",
       "      <td>0.0</td>\n",
       "      <td>0.0</td>\n",
       "      <td>0.0</td>\n",
       "      <td>0.0</td>\n",
       "      <td>11.0</td>\n",
       "      <td>2.0</td>\n",
       "      <td>3.0</td>\n",
       "    </tr>\n",
       "  </tbody>\n",
       "</table>\n",
       "<p>388754 rows × 21 columns</p>\n",
       "</div>"
      ],
      "text/plain": [
       "        HighBP  HighChol  CholCheck   BMI  Smoker  Stroke  \\\n",
       "0          1.0       1.0        1.0  40.0     1.0     0.0   \n",
       "1          0.0       0.0        0.0  25.0     1.0     0.0   \n",
       "2          1.0       1.0        1.0  28.0     0.0     0.0   \n",
       "3          1.0       0.0        1.0  27.0     0.0     0.0   \n",
       "4          1.0       1.0        1.0  24.0     0.0     0.0   \n",
       "...        ...       ...        ...   ...     ...     ...   \n",
       "388749     0.0       0.0        1.0  22.0     1.0     0.0   \n",
       "388750     1.0       1.0        1.0  27.0     0.0     0.0   \n",
       "388751     1.0       1.0        1.0  36.0     1.0     0.0   \n",
       "388752     0.0       0.0        1.0  35.0     1.0     0.0   \n",
       "388753     1.0       0.0        1.0  35.0     0.0     0.0   \n",
       "\n",
       "        HeartDiseaseorAttack  PhysActivity  Fruits  Veggies  ...  \\\n",
       "0                        0.0           0.0     0.0      1.0  ...   \n",
       "1                        0.0           1.0     0.0      0.0  ...   \n",
       "2                        0.0           0.0     1.0      0.0  ...   \n",
       "3                        0.0           1.0     1.0      1.0  ...   \n",
       "4                        0.0           1.0     1.0      1.0  ...   \n",
       "...                      ...           ...     ...      ...  ...   \n",
       "388749                   0.0           1.0     1.0      0.0  ...   \n",
       "388750                   1.0           1.0     1.0      1.0  ...   \n",
       "388751                   1.0           1.0     1.0      1.0  ...   \n",
       "388752                   0.0           0.0     0.0      1.0  ...   \n",
       "388753                   0.0           1.0     1.0      1.0  ...   \n",
       "\n",
       "        AnyHealthcare  NoDocbcCost  GenHlth  MentHlth  PhysHlth  DiffWalk  \\\n",
       "0                 1.0          0.0      5.0      18.0      15.0       1.0   \n",
       "1                 0.0          1.0      3.0       0.0       0.0       0.0   \n",
       "2                 1.0          1.0      5.0      30.0      30.0       1.0   \n",
       "3                 1.0          0.0      2.0       0.0       0.0       0.0   \n",
       "4                 1.0          0.0      2.0       3.0       0.0       0.0   \n",
       "...               ...          ...      ...       ...       ...       ...   \n",
       "388749            1.0          0.0      3.0       0.0       0.0       0.0   \n",
       "388750            1.0          0.0      4.0       0.0      10.0       1.0   \n",
       "388751            1.0          0.0      4.0       0.0      14.0       1.0   \n",
       "388752            1.0          0.0      5.0       0.0      30.0       1.0   \n",
       "388753            1.0          1.0      3.0       0.0       0.0       0.0   \n",
       "\n",
       "        Sex   Age  Education  Income  \n",
       "0       0.0   9.0        4.0     3.0  \n",
       "1       0.0   7.0        6.0     1.0  \n",
       "2       0.0   9.0        4.0     8.0  \n",
       "3       0.0  11.0        3.0     6.0  \n",
       "4       0.0  11.0        5.0     4.0  \n",
       "...     ...   ...        ...     ...  \n",
       "388749  1.0  12.0        5.0     7.0  \n",
       "388750  0.0  13.0        5.0     3.0  \n",
       "388751  1.0   9.0        3.0     6.0  \n",
       "388752  1.0  11.0        4.0     7.0  \n",
       "388753  0.0  11.0        2.0     3.0  \n",
       "\n",
       "[388754 rows x 21 columns]"
      ]
     },
     "execution_count": 31,
     "metadata": {},
     "output_type": "execute_result"
    }
   ],
   "source": [
    "X_all_features"
   ]
  },
  {
   "cell_type": "code",
   "execution_count": 32,
   "id": "a9EvO1aci3hh",
   "metadata": {
    "id": "a9EvO1aci3hh"
   },
   "outputs": [],
   "source": [
    "scale_dataset= StandardScaler()\n",
    "scale_dataset.fit(X_all_features)\n",
    "X_all_features =scale_dataset.transform(X_all_features)"
   ]
  },
  {
   "cell_type": "markdown",
   "id": "oExRPZAPu_xS",
   "metadata": {
    "id": "oExRPZAPu_xS"
   },
   "source": [
    "data recieved for test "
   ]
  },
  {
   "cell_type": "code",
   "execution_count": 33,
   "id": "2Q1Y8SoZuwFs",
   "metadata": {
    "id": "2Q1Y8SoZuwFs"
   },
   "outputs": [],
   "source": [
    "#data_test = pd.read_csv(\"diabetes_binary_health_indicators.csv\")"
   ]
  },
  {
   "cell_type": "code",
   "execution_count": 34,
   "id": "R6zu8UvAvNhd",
   "metadata": {
    "id": "R6zu8UvAvNhd"
   },
   "outputs": [],
   "source": [
    "#X_for_test = data_test.drop(['Diabetes_binary'],axis=1,inplace=False)"
   ]
  },
  {
   "cell_type": "code",
   "execution_count": 35,
   "id": "aYy4V7BAx9iR",
   "metadata": {
    "id": "aYy4V7BAx9iR"
   },
   "outputs": [],
   "source": [
    "#y_for_test = data_test['Diabetes_binary']"
   ]
  },
  {
   "cell_type": "code",
   "execution_count": 36,
   "id": "hl1GM1IKxtfu",
   "metadata": {
    "id": "hl1GM1IKxtfu"
   },
   "outputs": [
    {
     "data": {
      "text/plain": [
       "'\\nscale_test= StandardScaler()\\nscale_test.fit(X_for_test)\\nX_for_test =scale_test.transform(X_for_test)\\n'"
      ]
     },
     "execution_count": 36,
     "metadata": {},
     "output_type": "execute_result"
    }
   ],
   "source": [
    "\"\"\"\n",
    "scale_test= StandardScaler()\n",
    "scale_test.fit(X_for_test)\n",
    "X_for_test =scale_test.transform(X_for_test)\n",
    "\"\"\""
   ]
  },
  {
   "cell_type": "code",
   "execution_count": 37,
   "id": "9lqaLGoBi3-v",
   "metadata": {
    "id": "9lqaLGoBi3-v"
   },
   "outputs": [],
   "source": [
    "from sklearn.linear_model import LogisticRegression \n",
    "from sklearn.metrics import classification_report , confusion_matrix\n",
    "from sklearn.metrics import f1_score, precision_score\n",
    "from sklearn import metrics\n",
    "from sklearn.metrics import accuracy_score\n",
    "from sklearn import ensemble\n",
    "from sklearn.tree import DecisionTreeClassifier"
   ]
  },
  {
   "cell_type": "code",
   "execution_count": 38,
   "id": "Z8S8d-Rxi4YS",
   "metadata": {
    "colab": {
     "base_uri": "https://localhost:8080/"
    },
    "id": "Z8S8d-Rxi4YS",
    "outputId": "cc3e1df4-87d9-4457-abcf-d21af5ad6573"
   },
   "outputs": [
    {
     "name": "stdout",
     "output_type": "stream",
     "text": [
      "X_train shape  is  (272127, 21)\n",
      "X_test shape is  (116627, 21)\n",
      "y_train shape is  (272127,)\n",
      "y_test shape is  (116627,)\n"
     ]
    }
   ],
   "source": [
    "from sklearn.model_selection import train_test_split\n",
    "X_train_all_features , X_test_all_features , y_train_all_features , y_test_all_features = train_test_split(X_all_features , y_over_sampled , test_size=0.30 , random_state= 42 , shuffle = True)\n",
    "print(\"X_train shape  is \" , X_train_all_features.shape )\n",
    "print(\"X_test shape is \" , X_test_all_features.shape )\n",
    "print(\"y_train shape is \" , y_train_all_features.shape )\n",
    "print(\"y_test shape is \" , y_test_all_features.shape )"
   ]
  },
  {
   "cell_type": "markdown",
   "id": "cHJQEkGWrCPQ",
   "metadata": {
    "id": "cHJQEkGWrCPQ"
   },
   "source": [
    "The Logistic Regression algorithms befor feature selection"
   ]
  },
  {
   "cell_type": "code",
   "execution_count": 39,
   "id": "cTnNs8h4i4xY",
   "metadata": {
    "colab": {
     "base_uri": "https://localhost:8080/"
    },
    "id": "cTnNs8h4i4xY",
    "outputId": "fa761cae-b048-43ed-8c5f-f272ccc4e1ef"
   },
   "outputs": [
    {
     "name": "stderr",
     "output_type": "stream",
     "text": [
      "C:\\Users\\Dell\\anaconda3\\lib\\site-packages\\sklearn\\base.py:329: UserWarning: Trying to unpickle estimator LogisticRegression from version 1.0.2 when using version 1.1.0. This might lead to breaking code or invalid results. Use at your own risk. For more info please refer to:\n",
      "https://scikit-learn.org/stable/modules/model_persistence.html#security-maintainability-limitations\n",
      "  warnings.warn(\n"
     ]
    },
    {
     "name": "stdout",
     "output_type": "stream",
     "text": [
      "LogisticRegression Accuracy 0.731\n",
      "[[41463 16886]\n",
      " [14439 43839]]\n",
      "F1-score on test set: 0.737\n",
      "Precision: 0.722\n",
      "exist\n"
     ]
    }
   ],
   "source": [
    "model = LogisticRegression(solver = 'liblinear' , C = 305667 , random_state = 42 )\n",
    "if not(os.path.exists('LR_fit_data_1__')):\n",
    "    model.fit(X_train_all_features , y_train_all_features)\n",
    "    y_pred = model.predict(X_test_all_features )\n",
    "    score_ = model.score(X_test_all_features , y_test_all_features )\n",
    "    conf_m = confusion_matrix(y_test_all_features ,y_pred)\n",
    "    report = classification_report(y_test_all_features,y_pred)\n",
    "    model_accuracy_ = accuracy_score(y_test_all_features, y_pred )\n",
    "    precision = precision_score(y_test_all_features , y_pred)\n",
    "    f1_score_ = f1_score(y_pred, y_test_all_features) \n",
    "    #print(\"y  predict :\" , y_pred ,\"\\n\")\n",
    "    print(\"LogisticRegression Accuracy %.3f\" %metrics.accuracy_score(y_test_all_features, y_pred ))\n",
    "    print(conf_m)\n",
    "    print(\"F1-score on test set: {:.3f}\".format(f1_score_))\n",
    "    print(\"Precision: {:.3f}\".format(precision))\n",
    "else: \n",
    "    with open('LR_fit_data_1__', 'rb') as LR_fit_1:\n",
    "        LR_fit_data_load = pickle.load(LR_fit_1 )\n",
    "    y_pred = LR_fit_data_load.predict(X_test_all_features )\n",
    "    score_ = LR_fit_data_load.score(X_test_all_features , y_test_all_features )\n",
    "    conf_m = confusion_matrix(y_test_all_features ,y_pred)\n",
    "    model_accuracy_ = accuracy_score(y_test_all_features, y_pred )\n",
    "    precision = precision_score(y_test_all_features , y_pred)\n",
    "    f1_score_ = f1_score(y_pred, y_test_all_features) \n",
    "    print(\"LogisticRegression Accuracy %.3f\" %metrics.accuracy_score(y_test_all_features, y_pred ))\n",
    "    print(conf_m)\n",
    "    print(\"F1-score on test set: {:.3f}\".format(f1_score_))\n",
    "    print(\"Precision: {:.3f}\".format(precision))\n",
    "    print(\"exist\")\n",
    "    \"\"\" \n",
    "    score_test =  LR_fit_data_load.score(X_for_test , y_for_test )\n",
    "    y_pred_test = LR_fit_data_load.predict(X_for_test )\n",
    "    conf_m_test = confusion_matrix(y_for_test ,y_pred_test)\n",
    "    model_accuracy_test = accuracy_score(y_for_test, y_pred_test )\n",
    "    precision_test = precision_score(y_for_test , y_pred_test)\n",
    "    f1_score_test = f1_score(y_pred_test, y_for_test) \n",
    "    print(\"score for test data add \" ,  score_test )\n",
    "    print(\"f1_score for test data add \" ,  f1_score_test )\n",
    "    print(\"confusion_matrix for test data add \" ,  conf_m_test )\n",
    "    print(\"accuracy for test data add \" ,  model_accuracy_test )\n",
    "    print(\"precision_score for test data add \" ,  precision_test )\n",
    "\n",
    "\n",
    "\n",
    "\n",
    "    \"\"\""
   ]
  },
  {
   "cell_type": "code",
   "execution_count": 40,
   "id": "aRStsSAmi5sg",
   "metadata": {
    "colab": {
     "base_uri": "https://localhost:8080/"
    },
    "id": "aRStsSAmi5sg",
    "outputId": "f9275ae2-36eb-4a2d-a5f7-66fee49cded2"
   },
   "outputs": [
    {
     "name": "stderr",
     "output_type": "stream",
     "text": [
      "C:\\Users\\Dell\\anaconda3\\lib\\site-packages\\sklearn\\base.py:329: UserWarning: Trying to unpickle estimator DecisionTreeClassifier from version 1.0.2 when using version 1.1.0. This might lead to breaking code or invalid results. Use at your own risk. For more info please refer to:\n",
      "https://scikit-learn.org/stable/modules/model_persistence.html#security-maintainability-limitations\n",
      "  warnings.warn(\n",
      "C:\\Users\\Dell\\anaconda3\\lib\\site-packages\\sklearn\\base.py:329: UserWarning: Trying to unpickle estimator RandomForestClassifier from version 1.0.2 when using version 1.1.0. This might lead to breaking code or invalid results. Use at your own risk. For more info please refer to:\n",
      "https://scikit-learn.org/stable/modules/model_persistence.html#security-maintainability-limitations\n",
      "  warnings.warn(\n"
     ]
    },
    {
     "name": "stdout",
     "output_type": "stream",
     "text": [
      "Accuracy: 0.9338403628662316\n",
      "[[51352  6997]\n",
      " [  719 57559]]\n",
      "F1-score on test set: 0.937\n",
      "Precision: 0.892\n",
      "score 0.9338403628662316\n",
      "exist\n"
     ]
    }
   ],
   "source": [
    "random_forest_test = ensemble.RandomForestClassifier(n_estimators = 111)\n",
    "if not(os.path.exists('random_forest_fit_1__')):\n",
    "    random_forest_test.fit(X_train_all_features , y_train_all_features)\n",
    "    random_forest_score = random_forest_test.score(X_test_all_features , y_test_all_features )\n",
    "    random_forest_y_predict  = random_forest_test.predict(X_test_all_features)\n",
    "    random_forest_accuracy = metrics.accuracy_score(y_test_all_features, random_forest_y_predict )\n",
    "    confusion_matrix_random_forest = confusion_matrix(y_test_all_features,random_forest_y_predict)\n",
    "    f1_score_random_forest = f1_score(random_forest_y_predict, y_test_all_features)\n",
    "    precision_score_random_forest = precision_score(y_test_all_features , random_forest_y_predict)\n",
    "    print(\"Accuracy:\",metrics.accuracy_score(y_test_all_features, random_forest_y_predict))\n",
    "    print(confusion_matrix_random_forest)\n",
    "    print(\"F1-score on test set: {:.3f}\".format(f1_score(random_forest_y_predict, y_test_all_features)))\n",
    "    print(\"Precision: {:.3f}\".format(precision_score(y_test_all_features , random_forest_y_predict)))\n",
    "    print('score' )\n",
    "    random_forest_test.score(X_test_all_features , y_test_all_features )\n",
    "else:\n",
    "    with open('random_forest_fit_1__', 'rb') as random_forest_fit_1_:\n",
    "        random_forest_fit_load = pickle.load(random_forest_fit_1_ )\n",
    "    random_forest_score = random_forest_fit_load.score(X_test_all_features , y_test_all_features )\n",
    "    random_forest_y_predict  = random_forest_fit_load.predict(X_test_all_features)\n",
    "    random_forest_accuracy = metrics.accuracy_score(y_test_all_features, random_forest_y_predict )\n",
    "    confusion_matrix_random_forest = confusion_matrix(y_test_all_features,random_forest_y_predict)\n",
    "    f1_score_random_forest = f1_score(random_forest_y_predict, y_test_all_features)\n",
    "    precision_score_random_forest = precision_score(y_test_all_features , random_forest_y_predict)\n",
    "    print(\"Accuracy:\",metrics.accuracy_score(y_test_all_features, random_forest_y_predict))\n",
    "    print(confusion_matrix_random_forest)\n",
    "    print(\"F1-score on test set: {:.3f}\".format(f1_score(random_forest_y_predict, y_test_all_features)))\n",
    "    print(\"Precision: {:.3f}\".format(precision_score(y_test_all_features , random_forest_y_predict)))\n",
    "    print('score',    random_forest_fit_load.score(X_test_all_features , y_test_all_features ) )\n",
    "    print(\"exist\")\n",
    "    \"\"\" \n",
    "    score_test_rf =  random_forest_fit_load.score(X_for_test , y_for_test )\n",
    "    y_pred_test_rf = random_forest_fit_load.predict(X_for_test )\n",
    "    conf_m_test_rf = confusion_matrix(y_for_test ,y_pred_test_rf)\n",
    "    model_accuracy_test_rf = accuracy_score(y_for_test, y_pred_test_rf )\n",
    "    precision_test_rf = precision_score(y_for_test , y_pred_test_rf)\n",
    "    f1_score_test_rf = f1_score(y_pred_test_rf, y_for_test )\n",
    "    print(\"score for test data add \" ,  score_test_rf )\n",
    "    print(\"f1_score for test data add \" ,  f1_score_test_rf )\n",
    "    print(\"confusion_matrix for test data add \" ,  conf_m_test_rf )\n",
    "    print(\"accuracy for test data add \" ,  model_accuracy_test_rf )\n",
    "    print(\"precision_score for test data add \" ,  precision_test_rf )\n",
    "    \"\"\""
   ]
  },
  {
   "cell_type": "code",
   "execution_count": 41,
   "id": "iln9Rm3nVDTb",
   "metadata": {
    "colab": {
     "base_uri": "https://localhost:8080/"
    },
    "id": "iln9Rm3nVDTb",
    "outputId": "5552faf8-5414-446d-b769-48b3f66241e2"
   },
   "outputs": [
    {
     "name": "stdout",
     "output_type": "stream",
     "text": [
      "X_balanced shape is  (70194, 21)\n",
      "y_balanced shape is  (70194,)\n"
     ]
    }
   ],
   "source": [
    "from imblearn.under_sampling import RandomUnderSampler \n",
    "sm = RandomUnderSampler()\n",
    "X_undersample , y_undersample = sm.fit_resample(X , y)\n",
    "print(\"X_balanced shape is \" , X_undersample.shape )\n",
    "print(\"y_balanced shape is \" , y_undersample.shape )"
   ]
  },
  {
   "cell_type": "code",
   "execution_count": 42,
   "id": "Owyxir2EVQh0",
   "metadata": {
    "id": "Owyxir2EVQh0"
   },
   "outputs": [],
   "source": [
    "X_udersample_var = X_undersample"
   ]
  },
  {
   "cell_type": "code",
   "execution_count": 43,
   "id": "x4JUaRzqVSFs",
   "metadata": {
    "id": "x4JUaRzqVSFs"
   },
   "outputs": [],
   "source": [
    "scale_dataset= StandardScaler()\n",
    "scale_dataset.fit(X_udersample_var)\n",
    "X_udersample_var =scale_dataset.transform(X_udersample_var)"
   ]
  },
  {
   "cell_type": "code",
   "execution_count": 44,
   "id": "GQCoxGmpVDgy",
   "metadata": {
    "colab": {
     "base_uri": "https://localhost:8080/"
    },
    "id": "GQCoxGmpVDgy",
    "outputId": "a2ee20c4-f36a-4018-e1c0-afa3b7167b16"
   },
   "outputs": [
    {
     "name": "stdout",
     "output_type": "stream",
     "text": [
      "X_train shape  is  (49135, 21)\n",
      "X_test shape is  (21059, 21)\n",
      "y_train shape is  (49135,)\n",
      "y_test shape is  (21059,)\n"
     ]
    }
   ],
   "source": [
    "from sklearn.model_selection import train_test_split\n",
    "X_train_undersampled_features , X_test_undersampled_features , y_train_undersampled_features , y_test_undersampled_features = train_test_split(X_udersample_var , y_undersample , test_size=0.30 , random_state= 42 , shuffle = True)\n",
    "print(\"X_train shape  is \" , X_train_undersampled_features.shape )\n",
    "print(\"X_test shape is \" , X_test_undersampled_features.shape )\n",
    "print(\"y_train shape is \" , y_train_undersampled_features.shape )\n",
    "print(\"y_test shape is \" , y_test_undersampled_features.shape )"
   ]
  },
  {
   "cell_type": "markdown",
   "id": "I8unt2Eyq2PP",
   "metadata": {
    "id": "I8unt2Eyq2PP"
   },
   "source": [
    "The Decision Tree Classifier algorithms befor feature selection"
   ]
  },
  {
   "cell_type": "code",
   "execution_count": 45,
   "id": "_Sei7qXji5NW",
   "metadata": {
    "colab": {
     "base_uri": "https://localhost:8080/"
    },
    "id": "_Sei7qXji5NW",
    "outputId": "cfc49d07-e283-4e4f-8539-f63b7a6a326d"
   },
   "outputs": [
    {
     "name": "stderr",
     "output_type": "stream",
     "text": [
      "C:\\Users\\Dell\\anaconda3\\lib\\site-packages\\sklearn\\base.py:329: UserWarning: Trying to unpickle estimator DecisionTreeClassifier from version 1.0.2 when using version 1.1.0. This might lead to breaking code or invalid results. Use at your own risk. For more info please refer to:\n",
      "https://scikit-learn.org/stable/modules/model_persistence.html#security-maintainability-limitations\n",
      "  warnings.warn(\n"
     ]
    },
    {
     "name": "stdout",
     "output_type": "stream",
     "text": [
      "Accuracy: 0.9064367599269466\n",
      "[[48297 10052]\n",
      " [  860 57418]]\n",
      "F1-score on test set: 0.913\n",
      "Precision: 0.851\n",
      "exist\n"
     ]
    }
   ],
   "source": [
    "dtmodel = DecisionTreeClassifier()\n",
    "if not(os.path.exists('decision_tree_fit_1__')):\n",
    "    dtmodel.fit(X_train_all_features  , y_train_all_features )\n",
    "    prediction = dtmodel.predict(X_test_all_features)\n",
    "    decision_tree_model_accuracy = metrics.accuracy_score(y_test_all_features, prediction)\n",
    "    confusion_matrix_decision_tree = confusion_matrix(y_test_all_features,prediction)\n",
    "    f1_score_decision_tree = f1_score(prediction, y_test_all_features)\n",
    "    precision_score_decision_tree = precision_score(y_test_all_features , prediction)\n",
    "    print(\"Accuracy:\",metrics.accuracy_score(y_test_all_features, prediction))\n",
    "    print(confusion_matrix_decision_tree)\n",
    "    print(\"F1-score on test set: {:.3f}\".format(f1_score(prediction, y_test_all_features)))\n",
    "    print(\"Precision: {:.3f}\".format(precision_score(y_test_all_features , prediction)))\n",
    "else:\n",
    "    with open('decision_tree_fit_1__', 'rb') as decision_tree_fit_1_:\n",
    "        decesion_tree_fit_loaded = pickle.load(decision_tree_fit_1_ )\n",
    "    prediction = decesion_tree_fit_loaded.predict(X_test_all_features)\n",
    "    decision_tree_model_accuracy = metrics.accuracy_score(y_test_all_features, prediction)\n",
    "    confusion_matrix_decision_tree = confusion_matrix(y_test_all_features,prediction)\n",
    "    f1_score_decision_tree = f1_score(prediction, y_test_all_features)\n",
    "    precision_score_decision_tree = precision_score(y_test_all_features , prediction)\n",
    "    print(\"Accuracy:\",metrics.accuracy_score(y_test_all_features, prediction))\n",
    "    print(confusion_matrix_decision_tree)\n",
    "    print(\"F1-score on test set: {:.3f}\".format(f1_score(prediction, y_test_all_features)))\n",
    "    print(\"Precision: {:.3f}\".format(precision_score(y_test_all_features , prediction)))\n",
    "    print(\"exist\")\n",
    "    \"\"\" \n",
    "    score_test_tree =  decesion_tree_fit_loaded.score(X_for_test , y_for_test )\n",
    "    y_pred_test_tree = decesion_tree_fit_loaded.predict(X_for_test )\n",
    "    conf_m_test_tree = confusion_matrix(y_for_test ,y_pred_test_tree)\n",
    "    model_accuracy_test_tree = accuracy_score(y_for_test, y_pred_test_tree )\n",
    "    precision_test_tree = precision_score(y_for_test , y_pred_test_tree)\n",
    "    f1_score_test_tree = f1_score(y_pred_test_tree, y_for_test) \n",
    "    print(\"score for test data add \" ,  score_test_tree )\n",
    "    print(\"f1_score for test data add \" ,  f1_score_test_tree )\n",
    "    print(\"confusion_matrix for test data add \" ,  conf_m_test_tree )\n",
    "    print(\"accuracy for test data add \" ,  model_accuracy_test_tree )\n",
    "    print(\"precision_score for test data add \" ,  precision_test_tree )    \"\"\""
   ]
  },
  {
   "cell_type": "markdown",
   "id": "dNAk_mns5YVG",
   "metadata": {
    "id": "dNAk_mns5YVG"
   },
   "source": [
    "the svm befor feature selection "
   ]
  },
  {
   "cell_type": "code",
   "execution_count": 46,
   "id": "wrJbjZrpi6HP",
   "metadata": {
    "colab": {
     "base_uri": "https://localhost:8080/"
    },
    "id": "wrJbjZrpi6HP",
    "outputId": "9d866873-c70d-48ad-8d13-c3b1ccef8747"
   },
   "outputs": [
    {
     "name": "stderr",
     "output_type": "stream",
     "text": [
      "C:\\Users\\Dell\\anaconda3\\lib\\site-packages\\sklearn\\base.py:329: UserWarning: Trying to unpickle estimator SVC from version 1.0.2 when using version 1.1.0. This might lead to breaking code or invalid results. Use at your own risk. For more info please refer to:\n",
      "https://scikit-learn.org/stable/modules/model_persistence.html#security-maintainability-limitations\n",
      "  warnings.warn(\n"
     ]
    },
    {
     "name": "stdout",
     "output_type": "stream",
     "text": [
      "score 0.7296642765563417\n",
      "accuracy 0.7296642765563417\n",
      "precision 0.7134390796583581\n",
      "confusion_matrix [[7180 3288]\n",
      " [2405 8186]]\n",
      "f1_score_svm 0.7419895762519828\n",
      "exist\n"
     ]
    }
   ],
   "source": [
    "from sklearn.svm import SVC \n",
    "svm_train = SVC(kernel = 'linear', C = 0.01)\n",
    "if not(os.path.exists('svm_fited_data___')):\n",
    "    svm_train.fit(X_train_undersampled_features , y_train_undersampled_features)\n",
    "    y_predicted_svm = svm_train.predict(X_test_undersampled_features)\n",
    "    score_svm = svm_train.score(X_test_undersampled_features , y_test_undersampled_features )\n",
    "    conf_matrix = confusion_matrix(y_test_undersampled_features ,y_predicted_svm)\n",
    "    model_accuracy_svm = accuracy_score(y_test_undersampled_features, y_predicted_svm )\n",
    "    precision_svm = precision_score(y_test_undersampled_features , y_predicted_svm)\n",
    "    f1_score_svm = f1_score(y_predicted_svm, y_test_undersampled_features) \n",
    "    print('score' , score_svm ) \n",
    "    print('accuracy' , model_accuracy_svm ) \n",
    "    print('precision' , precision_svm )\n",
    "    print('confusion_matrix' , conf_matrix )\n",
    "    print('f1_score_svm' , f1_score_svm )\n",
    "else:\n",
    "    with open('svm_fited_data___', 'rb') as svm_fited_data1:\n",
    "        svm_fited_data_loaded = pickle.load(svm_fited_data1 )\n",
    "    y_predicted_svm = svm_fited_data_loaded.predict(X_test_undersampled_features)\n",
    "    score_svm = svm_fited_data_loaded.score(X_test_undersampled_features , y_test_undersampled_features )\n",
    "    conf_matrix = confusion_matrix(y_test_undersampled_features ,y_predicted_svm)\n",
    "    model_accuracy_svm = accuracy_score(y_test_undersampled_features, y_predicted_svm )\n",
    "    precision_svm = precision_score(y_test_undersampled_features , y_predicted_svm)\n",
    "    f1_score_svm = f1_score(y_predicted_svm, y_test_undersampled_features) \n",
    "    print('score' , score_svm ) \n",
    "    print('accuracy' , model_accuracy_svm ) \n",
    "    print('precision' , precision_svm )\n",
    "    print('confusion_matrix' , conf_matrix )\n",
    "    print('f1_score_svm' , f1_score_svm )\n",
    "    print(\"exist\")\n",
    "    \"\"\" \n",
    "    score_test_svm =  svm_fited_data_loaded.score(X_for_test , y_for_test )\n",
    "    y_pred_test_svm = svm_fited_data_loaded.predict(X_for_test )\n",
    "    conf_m_test_svm = confusion_matrix(y_for_test ,y_pred_test_svm)\n",
    "    model_accuracy_test_svm = accuracy_score(y_for_test, y_pred_test_svm )\n",
    "    precision_test_svm = precision_score(y_for_test , y_pred_test_svm)\n",
    "    f1_score_test_svm = f1_score(y_pred_test_svm, y_for_test) \n",
    "    print(\"score for test data add \" ,  score_test_svm )\n",
    "    print(\"f1_score for test data add \" ,  f1_score_test_svm )\n",
    "    print(\"confusion_matrix for test data add \" ,  conf_m_test_svm )\n",
    "    print(\"accuracy for test data add \" ,  model_accuracy_test_svm )\n",
    "    print(\"precision_score for test data add \" ,  precision_test_svm )    \"\"\""
   ]
  },
  {
   "cell_type": "markdown",
   "id": "4Gi0XhE0_oVN",
   "metadata": {
    "id": "4Gi0XhE0_oVN"
   },
   "source": [
    "The algorithms using correlation  feature selection "
   ]
  },
  {
   "cell_type": "code",
   "execution_count": 47,
   "id": "ZKVqNxCFfnxp",
   "metadata": {
    "colab": {
     "base_uri": "https://localhost:8080/"
    },
    "id": "ZKVqNxCFfnxp",
    "outputId": "df780382-0291-443e-8987-47bd39a39316"
   },
   "outputs": [
    {
     "data": {
      "text/plain": [
       "['HighBP',\n",
       " 'HighChol',\n",
       " 'BMI',\n",
       " 'HeartDiseaseorAttack',\n",
       " 'PhysActivity',\n",
       " 'GenHlth',\n",
       " 'PhysHlth',\n",
       " 'DiffWalk',\n",
       " 'Age',\n",
       " 'Education',\n",
       " 'Income']"
      ]
     },
     "execution_count": 47,
     "metadata": {},
     "output_type": "execute_result"
    }
   ],
   "source": [
    "abs(loaded_dataset.corr()[\"Diabetes_binary\"][abs(loaded_dataset.corr()[\"Diabetes_binary\"])>0.1].drop('Diabetes_binary')).index.tolist()"
   ]
  },
  {
   "cell_type": "code",
   "execution_count": 48,
   "id": "f2cca528",
   "metadata": {
    "id": "f2cca528"
   },
   "outputs": [],
   "source": [
    "import seaborn as sn"
   ]
  },
  {
   "cell_type": "code",
   "execution_count": 49,
   "id": "238847ad",
   "metadata": {
    "colab": {
     "base_uri": "https://localhost:8080/",
     "height": 586
    },
    "id": "238847ad",
    "outputId": "2367118a-e98b-431a-a26f-61b322de3530"
   },
   "outputs": [
    {
     "data": {
      "image/png": "[encoded data removed]",
      "text/plain": [
       "<Figure size 864x576 with 2 Axes>"
      ]
     },
     "metadata": {
      "needs_background": "light"
     },
     "output_type": "display_data"
    }
   ],
   "source": [
    "fig_dims = (12, 8)\n",
    "fig, ax = plt.subplots(figsize=fig_dims)\n",
    "sn.heatmap(loaded_dataset.corr(), ax=ax)\n",
    "plt.show()"
   ]
  },
  {
   "cell_type": "code",
   "execution_count": 50,
   "id": "d879fec1",
   "metadata": {
    "colab": {
     "base_uri": "https://localhost:8080/"
    },
    "id": "d879fec1",
    "outputId": "9680af2f-c711-4c97-a06e-80b89cfe2de2"
   },
   "outputs": [
    {
     "data": {
      "text/plain": [
       "Diabetes_binary         1.000000\n",
       "HighBP                  0.254318\n",
       "HighChol                0.194944\n",
       "CholCheck               0.072523\n",
       "BMI                     0.205086\n",
       "Smoker                  0.045504\n",
       "Stroke                  0.099193\n",
       "HeartDiseaseorAttack    0.168213\n",
       "PhysActivity            0.100404\n",
       "Fruits                  0.024805\n",
       "Veggies                 0.041734\n",
       "HvyAlcoholConsump       0.065950\n",
       "AnyHealthcare           0.025331\n",
       "NoDocbcCost             0.020048\n",
       "GenHlth                 0.276940\n",
       "MentHlth                0.054153\n",
       "PhysHlth                0.156211\n",
       "DiffWalk                0.205302\n",
       "Sex                     0.032724\n",
       "Age                     0.177263\n",
       "Education               0.102686\n",
       "Income                  0.140659\n",
       "Name: Diabetes_binary, dtype: float64"
      ]
     },
     "execution_count": 50,
     "metadata": {},
     "output_type": "execute_result"
    }
   ],
   "source": [
    "abs(loaded_dataset.corr()[\"Diabetes_binary\"])"
   ]
  },
  {
   "cell_type": "code",
   "execution_count": 51,
   "id": "f7c44e91",
   "metadata": {
    "id": "f7c44e91"
   },
   "outputs": [],
   "source": [
    "features1 = X_over_sampled.drop([ 'Smoker'  , 'Stroke'  , 'Fruits' , 'Veggies',  'AnyHealthcare' ,  'Education' , 'Income'  , 'NoDocbcCost' ,  'Sex',   'HvyAlcoholConsump' ,  'CholCheck' ],axis=1,inplace=False)"
   ]
  },
  {
   "cell_type": "code",
   "execution_count": null,
   "id": "28b3aa21",
   "metadata": {},
   "outputs": [],
   "source": [
    "#x_test_after_selection = X_for_test.drop([ 'Smoker'  , 'Stroke'  , 'Fruits' , 'Veggies',  'AnyHealthcare' ,  'Education' , 'Income'  , 'NoDocbcCost' ,  'Sex',   'HvyAlcoholConsump' ,  'CholCheck' ],axis=1,inplace=False)"
   ]
  },
  {
   "cell_type": "code",
   "execution_count": 52,
   "id": "eee8701f",
   "metadata": {
    "id": "eee8701f"
   },
   "outputs": [],
   "source": [
    "from sklearn.preprocessing import StandardScaler"
   ]
  },
  {
   "cell_type": "code",
   "execution_count": 53,
   "id": "543148f8",
   "metadata": {
    "id": "543148f8"
   },
   "outputs": [],
   "source": [
    "scale_dataset= StandardScaler()\n",
    "scale_dataset.fit(features1)\n",
    "features1 =scale_dataset.transform(features1)"
   ]
  },
  {
   "cell_type": "code",
   "execution_count": 54,
   "id": "031f23fa",
   "metadata": {
    "colab": {
     "base_uri": "https://localhost:8080/"
    },
    "id": "031f23fa",
    "outputId": "dca8bfb2-728d-4c46-9674-b1c0ce5fa2cb"
   },
   "outputs": [
    {
     "name": "stdout",
     "output_type": "stream",
     "text": [
      "X_train shape is  (272127, 10)\n",
      "X_test shape is  (116627, 10)\n",
      "y_train shape is  (272127,)\n",
      "y_test shape is  (116627,)\n"
     ]
    }
   ],
   "source": [
    "from sklearn.model_selection import train_test_split\n",
    "\n",
    "x_train , x_test , Y_train , Y_test = train_test_split(features1 , y_over_sampled , test_size=0.30 , random_state= 42 , shuffle = True)\n",
    "print(\"X_train shape is \" , x_train.shape )\n",
    "print(\"X_test shape is \" , x_test.shape )\n",
    "print(\"y_train shape is \" , Y_train.shape )\n",
    "print(\"y_test shape is \" , Y_test.shape )"
   ]
  },
  {
   "cell_type": "code",
   "execution_count": 55,
   "id": "5d4d9c08",
   "metadata": {
    "id": "5d4d9c08"
   },
   "outputs": [],
   "source": [
    "from sklearn.linear_model import LogisticRegression \n",
    "from sklearn.metrics import classification_report , confusion_matrix\n",
    "from sklearn.metrics import f1_score, precision_score\n",
    "from sklearn import metrics\n",
    "from sklearn.metrics import accuracy_score\n",
    "from sklearn import ensemble\n",
    "from sklearn.tree import DecisionTreeClassifier"
   ]
  },
  {
   "cell_type": "code",
   "execution_count": 56,
   "id": "4114c6a6",
   "metadata": {
    "colab": {
     "base_uri": "https://localhost:8080/"
    },
    "id": "4114c6a6",
    "outputId": "9578c131-60da-46a6-e10d-e9d17a84b36f"
   },
   "outputs": [
    {
     "name": "stderr",
     "output_type": "stream",
     "text": [
      "C:\\Users\\Dell\\anaconda3\\lib\\site-packages\\sklearn\\base.py:329: UserWarning: Trying to unpickle estimator LogisticRegression from version 1.0.2 when using version 1.1.0. This might lead to breaking code or invalid results. Use at your own risk. For more info please refer to:\n",
      "https://scikit-learn.org/stable/modules/model_persistence.html#security-maintainability-limitations\n",
      "  warnings.warn(\n"
     ]
    },
    {
     "name": "stdout",
     "output_type": "stream",
     "text": [
      "LogisticRegression Accuracy 0.727\n",
      "[[41297 17052]\n",
      " [14761 43517]]\n",
      "F1-score on test set: 0.732\n",
      "Precision: 0.718\n",
      "exist\n"
     ]
    }
   ],
   "source": [
    "model1 = LogisticRegression(solver = 'liblinear' , C = 305667 , random_state = 42 )\n",
    "if not(os.path.exists('LR_FIT_CORRELATION___')):\n",
    "    model1.fit(x_train , Y_train)\n",
    "    y_pred_lr_corr = model1.predict(x_test)\n",
    "    score_lr_corr = model1.score(x_test , Y_test)\n",
    "    conf_mlr_corr = confusion_matrix(Y_test ,y_pred_lr_corr)\n",
    "    report_lr_corr = classification_report(Y_test,y_pred_lr_corr)\n",
    "    model_accuracy_lr_corr = accuracy_score(Y_test, y_pred_lr_corr )\n",
    "    precision_lr_corr = precision_score(Y_test , y_pred_lr_corr)\n",
    "    f1_score_lr_corr = f1_score(y_pred_lr_corr, Y_test)\n",
    "    print(\"LogisticRegression Accuracy %.3f\" %metrics.accuracy_score(Y_test, y_pred_lr_corr))\n",
    "    print(confusion_matrix(Y_test,y_pred_lr_corr))\n",
    "    print(\"F1-score on test set: {:.3f}\".format(f1_score(y_pred_lr_corr, Y_test)))\n",
    "    print(\"Precision: {:.3f}\".format(precision_score(Y_test , y_pred_lr_corr)))\n",
    "\n",
    "else:\n",
    "    with open('LR_FIT_CORRELATION___', 'rb') as LR_FIT_CORRELATION_1_:\n",
    "        LR_FIT_CORRELATION_loaded = pickle.load(LR_FIT_CORRELATION_1_ )\n",
    "    y_pred_lr_corr = LR_FIT_CORRELATION_loaded.predict(x_test)\n",
    "    score_lr_corr = LR_FIT_CORRELATION_loaded.score(x_test , Y_test)\n",
    "    conf_mlr_corr = confusion_matrix(Y_test ,y_pred_lr_corr)\n",
    "    model_accuracy_lr_corr = accuracy_score(Y_test, y_pred_lr_corr )\n",
    "    precision_lr_corr = precision_score(Y_test , y_pred_lr_corr)\n",
    "    f1_score_lr_corr = f1_score(y_pred_lr_corr, Y_test)\n",
    "    print(\"LogisticRegression Accuracy %.3f\" %metrics.accuracy_score(Y_test, y_pred_lr_corr))\n",
    "    print(confusion_matrix(Y_test,y_pred_lr_corr))\n",
    "    print(\"F1-score on test set: {:.3f}\".format(f1_score(y_pred_lr_corr, Y_test)))\n",
    "    print(\"Precision: {:.3f}\".format(precision_score(Y_test , y_pred_lr_corr)))\n",
    "    print(\"exist\")\n",
    "    \"\"\" \n",
    "    score_test_lr_afte =  LR_FIT_CORRELATION_loaded.score(x_test_after_selection , y_for_test )\n",
    "    y_pred_test_lr_after = LR_FIT_CORRELATION_loaded.predict(x_test_after_selection )\n",
    "    conf_m_test_lr_afte = confusion_matrix(y_for_test ,y_pred_test_lr_after )\n",
    "    model_accuracy_test_lr_afte = accuracy_score(y_for_test, y_pred_test_lr_after )\n",
    "    precision_test_lr_afte = precision_score(y_for_test , y_pred_test_lr_after)\n",
    "    f1_score_test_lr_afte = f1_score(y_pred_test_lr_after, y_for_test)\n",
    "    print(\"score for test data add \" ,  score_test_lr_afte )\n",
    "    print(\"f1_score for test data add \" ,  f1_score_test_lr_afte )\n",
    "    print(\"confusion_matrix for test data add \" ,  conf_m_test_lr_afte )\n",
    "    print(\"accuracy for test data add \" ,  model_accuracy_test_lr_afte )\n",
    "    print(\"precision_score for test data add \" ,  precision_test_lr_afte )    \"\"\""
   ]
  },
  {
   "cell_type": "code",
   "execution_count": 57,
   "id": "f0efbc4d",
   "metadata": {
    "colab": {
     "base_uri": "https://localhost:8080/"
    },
    "id": "f0efbc4d",
    "outputId": "13f7eb04-5e34-451d-81f7-0714922a9f12"
   },
   "outputs": [
    {
     "name": "stderr",
     "output_type": "stream",
     "text": [
      "C:\\Users\\Dell\\anaconda3\\lib\\site-packages\\sklearn\\base.py:329: UserWarning: Trying to unpickle estimator DecisionTreeClassifier from version 1.0.2 when using version 1.1.0. This might lead to breaking code or invalid results. Use at your own risk. For more info please refer to:\n",
      "https://scikit-learn.org/stable/modules/model_persistence.html#security-maintainability-limitations\n",
      "  warnings.warn(\n",
      "C:\\Users\\Dell\\anaconda3\\lib\\site-packages\\sklearn\\base.py:329: UserWarning: Trying to unpickle estimator RandomForestClassifier from version 1.0.2 when using version 1.1.0. This might lead to breaking code or invalid results. Use at your own risk. For more info please refer to:\n",
      "https://scikit-learn.org/stable/modules/model_persistence.html#security-maintainability-limitations\n",
      "  warnings.warn(\n"
     ]
    },
    {
     "name": "stdout",
     "output_type": "stream",
     "text": [
      "Accuracy: 0.8423178166290824\n",
      "[[45951 12398]\n",
      " [ 5992 52286]]\n",
      "F1-score on test set: 0.850\n",
      "Precision: 0.808\n",
      "score 0.8423178166290824\n",
      "exist\n"
     ]
    }
   ],
   "source": [
    "random_forest_test1 = ensemble.RandomForestClassifier(n_estimators = 111)\n",
    "if not(os.path.exists('random_forest_fit1___')):\n",
    "    random_forest_test1.fit(x_train , Y_train)\n",
    "    random_forest_score1 = random_forest_test1.score(x_test , Y_test )\n",
    "    random_forest_y_predict1  = random_forest_test1.predict(x_test)\n",
    "    random_forest_accuracy1 = metrics.accuracy_score(Y_test, random_forest_y_predict1 )\n",
    "    confusion_matrix_random_forest1 = confusion_matrix(Y_test,random_forest_y_predict1)\n",
    "    f1_score_random_forest1 = f1_score(random_forest_y_predict1, Y_test)\n",
    "    precision_score_random_forest1 = precision_score(Y_test , random_forest_y_predict1)\n",
    "    print(\"Accuracy:\",metrics.accuracy_score(Y_test, random_forest_y_predict1))\n",
    "    print(confusion_matrix_random_forest1)\n",
    "    print(\"F1-score on test set: {:.3f}\".format(f1_score(random_forest_y_predict1, Y_test)))\n",
    "    print(\"Precision: {:.3f}\".format(precision_score(Y_test , random_forest_y_predict1)))\n",
    "    print('score',    random_forest_test1.score(x_test , Y_test ) )\n",
    "else:\n",
    "    with open('random_forest_fit1___', 'rb') as random_forest_fit1_1_:\n",
    "        random_forest_fit1_loaded = pickle.load(random_forest_fit1_1_ )\n",
    "    random_forest_score1 = random_forest_fit1_loaded.score(x_test , Y_test )\n",
    "    random_forest_y_predict1  = random_forest_fit1_loaded.predict(x_test)\n",
    "    random_forest_accuracy1 = metrics.accuracy_score(Y_test, random_forest_y_predict1 )\n",
    "    confusion_matrix_random_forest1 = confusion_matrix(Y_test,random_forest_y_predict1)\n",
    "    f1_score_random_forest1 = f1_score(random_forest_y_predict1, Y_test)\n",
    "    precision_score_random_forest1 = precision_score(Y_test , random_forest_y_predict1)\n",
    "    print(\"Accuracy:\",metrics.accuracy_score(Y_test, random_forest_y_predict1))\n",
    "    print(confusion_matrix_random_forest1)\n",
    "    print(\"F1-score on test set: {:.3f}\".format(f1_score(random_forest_y_predict1, Y_test)))\n",
    "    print(\"Precision: {:.3f}\".format(precision_score(Y_test , random_forest_y_predict1)))\n",
    "    print('score',    random_forest_fit1_loaded.score(x_test , Y_test ) )\n",
    "    print(\"exist\")\n",
    "    \"\"\" \n",
    "    score_test_rs_after =  random_forest_fit1_loaded.score(x_test_after_selection , y_for_test )\n",
    "    y_pred_test_rs_after = random_forest_fit1_loaded.predict(x_test_after_selection )\n",
    "    conf_m_test_rs_after = confusion_matrix(y_for_test ,y_pred_test_rs_after)\n",
    "    model_accuracy_test_rs_after = accuracy_score(y_for_test, y_pred_test_rs_after )\n",
    "    precision_test_rs_after = precision_score(y_for_test , y_pred_test_rs_after)\n",
    "    f1_score_test_rs_after = f1_score(y_pred_test_rs_after, y_for_test) \n",
    "    print(\"score for test data add \" ,  score_test_rs_after )\n",
    "    print(\"f1_score for test data add \" ,  f1_score_test_rs_after )\n",
    "    print(\"confusion_matrix for test data add \" ,  conf_m_test_rs_after )\n",
    "    print(\"accuracy for test data add \" ,  model_accuracy_test_rs_after )\n",
    "    print(\"precision_score for test data add \" ,  precision_test_rs_after )    \"\"\""
   ]
  },
  {
   "cell_type": "code",
   "execution_count": 58,
   "id": "c96e9bb5",
   "metadata": {
    "colab": {
     "base_uri": "https://localhost:8080/"
    },
    "id": "c96e9bb5",
    "outputId": "fd58e5c1-c38d-4c5d-b5bd-784e67fb5996"
   },
   "outputs": [
    {
     "name": "stderr",
     "output_type": "stream",
     "text": [
      "C:\\Users\\Dell\\anaconda3\\lib\\site-packages\\sklearn\\base.py:329: UserWarning: Trying to unpickle estimator DecisionTreeClassifier from version 1.0.2 when using version 1.1.0. This might lead to breaking code or invalid results. Use at your own risk. For more info please refer to:\n",
      "https://scikit-learn.org/stable/modules/model_persistence.html#security-maintainability-limitations\n",
      "  warnings.warn(\n"
     ]
    },
    {
     "name": "stdout",
     "output_type": "stream",
     "text": [
      "Accuracy: 0.8351325164841761\n",
      "[[45708 12641]\n",
      " [ 6587 51691]]\n",
      "F1-score on test set: 0.843\n",
      "Precision: 0.804\n",
      "exist\n"
     ]
    }
   ],
   "source": [
    "dtmodel1 = DecisionTreeClassifier()\n",
    "if not(os.path.exists('decision_tree_fit1___')):\n",
    "    dtmodel1.fit(x_train  , Y_train )\n",
    "    prediction1 = dtmodel1.predict(x_test)\n",
    "    decision_tree_model_accuracy1 = metrics.accuracy_score(Y_test, prediction1)\n",
    "    decision_tree_score11 = dtmodel1.score(x_test , Y_test )\n",
    "    confusion_matrix_decision_tree1 = confusion_matrix(Y_test,prediction1)\n",
    "    f1_score_decision_tree1 = f1_score(prediction1, Y_test)\n",
    "    precision_score_decision_tree1 = precision_score(Y_test , prediction1)\n",
    "    print(\"Accuracy:\",metrics.accuracy_score(Y_test, prediction1))\n",
    "    print(confusion_matrix_decision_tree1)\n",
    "    print(\"F1-score on test set: {:.3f}\".format(f1_score(prediction1, Y_test)))\n",
    "    print(\"Precision: {:.3f}\".format(precision_score(Y_test , prediction1)))\n",
    "else:\n",
    "    with open('decision_tree_fit1___', 'rb') as decision_tree_fit1_:\n",
    "        decision_tree_fit1_loaded = pickle.load(decision_tree_fit1_ )\n",
    "    prediction1 = decision_tree_fit1_loaded.predict(x_test)\n",
    "    decision_tree_score1 = decision_tree_fit1_loaded.score(x_test , Y_test )\n",
    "    decision_tree_model_accuracy1 = metrics.accuracy_score(Y_test, prediction1)\n",
    "    decision_tree_score11 = decision_tree_fit1_loaded.score(x_test , Y_test )\n",
    "    confusion_matrix_decision_tree1 = confusion_matrix(Y_test,prediction1)\n",
    "    f1_score_decision_tree1 = f1_score(prediction1, Y_test)\n",
    "    precision_score_decision_tree1 = precision_score(Y_test , prediction1)\n",
    "    print(\"Accuracy:\",metrics.accuracy_score(Y_test, prediction1))\n",
    "    print(confusion_matrix_decision_tree1)\n",
    "    print(\"F1-score on test set: {:.3f}\".format(f1_score(prediction1, Y_test)))\n",
    "    print(\"Precision: {:.3f}\".format(precision_score(Y_test , prediction1)))\n",
    "    print(\"exist\")\n",
    "    \"\"\" \n",
    "    score_test_tree_after =  decesion_tree_fit_loaded.score(x_test_after_selection , y_for_test )\n",
    "    y_pred_test_tree_after = decesion_tree_fit_loaded.predict(x_test_after_selection )\n",
    "    conf_m_test_tree_after = confusion_matrix(y_for_test ,y_pred_test_tree_after )\n",
    "    model_accuracy_test_tree_after = accuracy_score(y_for_test, y_pred_test_tree_after ) \n",
    "    precision_test_tree_after = precision_score(y_for_test , y_pred_test_tree_after )  \n",
    "    f1_score_test_tree_after = f1_score(y_pred_test_tree_after , y_for_test ) \n",
    "    print(\"score for test data add \" ,  score_test_tree_after )\n",
    "    print(\"f1_score for test data add \" ,  f1_score_test_tree_after )\n",
    "    print(\"confusion_matrix for test data add \" ,  conf_m_test_tree_after )\n",
    "    print(\"accuracy for test data add \" ,  model_accuracy_test_tree_after )\n",
    "    print(\"precision_score for test data add \" ,  precision_test_tree_after )    \"\"\""
   ]
  },
  {
   "cell_type": "markdown",
   "id": "iCHojx_En--7",
   "metadata": {
    "id": "iCHojx_En--7"
   },
   "source": [
    "features for svm"
   ]
  },
  {
   "cell_type": "code",
   "execution_count": 59,
   "id": "qThuKeWfluyv",
   "metadata": {
    "id": "qThuKeWfluyv"
   },
   "outputs": [],
   "source": [
    "features2 = X_undersample.drop([ 'Smoker'  , 'Stroke'  , 'Fruits' , 'Veggies',  'AnyHealthcare' ,  'Education' , 'Income'  , 'NoDocbcCost' ,  'Sex',   'HvyAlcoholConsump' ,  'CholCheck' ],axis=1,inplace=False)"
   ]
  },
  {
   "cell_type": "code",
   "execution_count": 60,
   "id": "HKwLBYPul0FC",
   "metadata": {
    "id": "HKwLBYPul0FC"
   },
   "outputs": [],
   "source": [
    "scale_dataset1= StandardScaler()\n",
    "scale_dataset1.fit(features2)\n",
    "features2 =scale_dataset1.transform(features2)"
   ]
  },
  {
   "cell_type": "code",
   "execution_count": 61,
   "id": "8w8KmLqxl0b4",
   "metadata": {
    "colab": {
     "base_uri": "https://localhost:8080/"
    },
    "id": "8w8KmLqxl0b4",
    "outputId": "038c5b33-2aa4-4709-b0ca-4da8cb1f9788"
   },
   "outputs": [
    {
     "name": "stdout",
     "output_type": "stream",
     "text": [
      "X_train shape is  (49135, 10)\n",
      "X_test shape is  (116627, 10)\n",
      "y_train shape is  (272127,)\n",
      "y_test shape is  (116627,)\n"
     ]
    }
   ],
   "source": [
    "from sklearn.model_selection import train_test_split\n",
    "\n",
    "x_train_svm , x_test_svm , Y_train_svm , Y_test_svm = train_test_split(features2 , y_undersample , test_size=0.30 , random_state= 42 , shuffle = True)\n",
    "print(\"X_train shape is \" , x_train_svm.shape )\n",
    "print(\"X_test shape is \" , x_test.shape )\n",
    "print(\"y_train shape is \" , Y_train.shape )\n",
    "print(\"y_test shape is \" , Y_test.shape )"
   ]
  },
  {
   "cell_type": "code",
   "execution_count": 62,
   "id": "d12f22b8",
   "metadata": {
    "colab": {
     "base_uri": "https://localhost:8080/"
    },
    "id": "d12f22b8",
    "outputId": "d2cf9ada-033b-44b9-a459-570cad79a8d0"
   },
   "outputs": [
    {
     "name": "stderr",
     "output_type": "stream",
     "text": [
      "C:\\Users\\Dell\\anaconda3\\lib\\site-packages\\sklearn\\base.py:329: UserWarning: Trying to unpickle estimator SVC from version 1.0.2 when using version 1.1.0. This might lead to breaking code or invalid results. Use at your own risk. For more info please refer to:\n",
      "https://scikit-learn.org/stable/modules/model_persistence.html#security-maintainability-limitations\n",
      "  warnings.warn(\n"
     ]
    },
    {
     "name": "stdout",
     "output_type": "stream",
     "text": [
      "score 0.7242509140984852\n",
      "accuracy 0.7242509140984852\n",
      "precision 0.7086895829698133\n",
      "confusion_matrix [[7129 3339]\n",
      " [2468 8123]]\n",
      "f1_score_svm 0.73667981680497\n",
      "exist\n"
     ]
    }
   ],
   "source": [
    "from sklearn.svm import SVC \n",
    "svm_train1 = SVC(kernel = 'linear', C = 0.01)\n",
    "if not(os.path.exists('svm_saved1__')):\n",
    "    svm_train1.fit(x_train_svm , Y_train_svm)\n",
    "    y_predicted_svm1 = svm_train1.predict(x_test_svm)\n",
    "    score_svm1 = svm_train1.score(x_test_svm , Y_test_svm )\n",
    "    conf_matrix1 = confusion_matrix(Y_test_svm ,y_predicted_svm1)\n",
    "    model_accuracy_svm1 = accuracy_score(Y_test_svm, y_predicted_svm1 )\n",
    "    precision_svm1 = precision_score(Y_test_svm , y_predicted_svm1)\n",
    "    f1_score_svm1 = f1_score(y_predicted_svm1, Y_test_svm) \n",
    "    print('score' , score_svm1 ) \n",
    "    print('accuracy' , model_accuracy_svm1 ) \n",
    "    print('precision' , precision_svm1 )\n",
    "    print('confusion_matrix' , conf_matrix1 )\n",
    "    print('f1_score_svm' , f1_score_svm1 )\n",
    "else:\n",
    "    with open('svm_saved1__', 'rb') as svm_saved1_:\n",
    "        svm_saved1_loaded = pickle.load(svm_saved1_ )\n",
    "    y_predicted_svm1 = svm_saved1_loaded.predict(x_test_svm)\n",
    "    score_svm1 = svm_saved1_loaded.score(x_test_svm , Y_test_svm )\n",
    "    conf_matrix1 = confusion_matrix(Y_test_svm ,y_predicted_svm1)\n",
    "    model_accuracy_svm1 = accuracy_score(Y_test_svm, y_predicted_svm1 )\n",
    "    precision_svm1 = precision_score(Y_test_svm , y_predicted_svm1)\n",
    "    f1_score_svm1 = f1_score(y_predicted_svm1, Y_test_svm) \n",
    "    print('score' , score_svm1 ) \n",
    "    print('accuracy' , model_accuracy_svm1 ) \n",
    "    print('precision' , precision_svm1 )\n",
    "    print('confusion_matrix' , conf_matrix1 )\n",
    "    print('f1_score_svm' , f1_score_svm1 )\n",
    "    print(\"exist\")\n",
    "    \"\"\" \n",
    "    score_test_svm_after =  decesion_tree_fit_loaded.score(x_test_after_selection , y_for_test )\n",
    "    y_pred_test_after = decesion_tree_fit_loaded.predict(x_test_after_selection )\n",
    "    conf_m_test_after = confusion_matrix(y_for_test ,y_pred_test_after )\n",
    "    model_accuracy_test_after = accuracy_score(y_for_test, y_pred_test_after )\n",
    "    precision_test_after = precision_score(y_for_test , y_pred_test_after)\n",
    "    f1_score_test_after = f1_score(y_pred_test_after, y_for_test) \n",
    "    print(\"score for test data add \" ,  score_test_svm_after )\n",
    "    print(\"f1_score for test data add \" ,  f1_score_test_after )\n",
    "    print(\"confusion_matrix for test data add \" ,  conf_m_test_after )\n",
    "    print(\"accuracy for test data add \" ,  model_accuracy_test_after )\n",
    "    print(\"precision_score for test data add \" ,  precision_test_after )    \"\"\""
   ]
  }
 ],
 "metadata": {
  "accelerator": "GPU",
  "colab": {
   "collapsed_sections": [],
   "name": "diabetes_project_final___1.ipynb",
   "provenance": []
  },
  "kernelspec": {
   "display_name": "Python 3 (ipykernel)",
   "language": "python",
   "name": "python3"
  },
  "language_info": {
   "codemirror_mode": {
    "name": "ipython",
    "version": 3
   },
   "file_extension": ".py",
   "mimetype": "text/x-python",
   "name": "python",
   "nbconvert_exporter": "python",
   "pygments_lexer": "ipython3",
   "version": "3.9.7"
  }
 },
 "nbformat": 4,
 "nbformat_minor": 5
}
